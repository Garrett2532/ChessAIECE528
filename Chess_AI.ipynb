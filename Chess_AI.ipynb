{
 "cells": [
  {
   "cell_type": "code",
   "execution_count": 1,
   "metadata": {
    "id": "QauvWk2MkddY"
   },
   "outputs": [
    {
     "name": "stderr",
     "output_type": "stream",
     "text": [
      "A:\\Anaconda\\lib\\site-packages\\scipy\\__init__.py:146: UserWarning: A NumPy version >=1.16.5 and <1.23.0 is required for this version of SciPy (detected version 1.23.5\n",
      "  warnings.warn(f\"A NumPy version >={np_minversion} and <{np_maxversion}\"\n"
     ]
    }
   ],
   "source": [
    "import tensorflow as tf\n",
    "import chess\n",
    "import chess.engine\n",
    "import random\n",
    "#import cupy as np\n",
    "import numpy\n",
    "import tensorflow as tf\n",
    "\n",
    "\n",
    "# this function will create our x (board)\n",
    "def random_board(max_depth=200):\n",
    "  board = chess.Board()\n",
    "  depth = random.randrange(0, max_depth)\n",
    "\n",
    "  for _ in range(depth):\n",
    "    all_moves = list(board.legal_moves)\n",
    "    random_move = random.choice(all_moves)\n",
    "    board.push(random_move)\n",
    "    if board.is_game_over():\n",
    "      break\n",
    "\n",
    "  return board\n",
    "\n",
    "\n",
    "# this function will create our f(x) (score)\n",
    "stockFish13path = 'A:\\\\chess\\\\Chess-AI-with-TensorFlow\\\\stockfish\\\\13\\\\bin\\\\stockfish_20011801_x64.exe'\n",
    "def stockfish(board, depth):\n",
    "  with chess.engine.SimpleEngine.popen_uci(stockFish13path) as sf:\n",
    "    result = sf.analyse(board, chess.engine.Limit(depth=depth))\n",
    "    score = result['score'].white().score()\n",
    "    return score\n",
    "\n",
    "maes = []\n",
    "model_sizes = []"
   ]
  },
  {
   "cell_type": "code",
   "execution_count": 2,
   "metadata": {},
   "outputs": [
    {
     "name": "stdout",
     "output_type": "stream",
     "text": [
      "Device mapping:\n",
      "/job:localhost/replica:0/task:0/device:GPU:0 -> device: 0, name: NVIDIA GeForce RTX 3080, pci bus id: 0000:07:00.0, compute capability: 8.6\n",
      "\n"
     ]
    }
   ],
   "source": [
    "sess = tf.compat.v1.Session(config=tf.compat.v1.ConfigProto(log_device_placement=True))"
   ]
  },
  {
   "cell_type": "code",
   "execution_count": 3,
   "metadata": {
    "id": "ULOEWyyfYqtq"
   },
   "outputs": [
    {
     "data": {
      "image/svg+xml": [
       "<svg xmlns=\"http://www.w3.org/2000/svg\" xmlns:xlink=\"http://www.w3.org/1999/xlink\" version=\"1.2\" baseProfile=\"tiny\" viewBox=\"0 0 390 390\" width=\"390\" height=\"390\"><desc><pre>r n . . . b . r\n",
       "p p . q k . p p\n",
       ". . b p . . . .\n",
       "P P p P p P . n\n",
       "R . P . . . P .\n",
       ". . . . . P . P\n",
       ". B . . . . . .\n",
       ". N . . K B N R</pre></desc><defs><g id=\"white-pawn\" class=\"white pawn\"><path d=\"M22.5 9c-2.21 0-4 1.79-4 4 0 .89.29 1.71.78 2.38C17.33 16.5 16 18.59 16 21c0 2.03.94 3.84 2.41 5.03-3 1.06-7.41 5.55-7.41 13.47h23c0-7.92-4.41-12.41-7.41-13.47 1.47-1.19 2.41-3 2.41-5.03 0-2.41-1.33-4.5-3.28-5.62.49-.67.78-1.49.78-2.38 0-2.21-1.79-4-4-4z\" fill=\"#fff\" stroke=\"#000\" stroke-width=\"1.5\" stroke-linecap=\"round\" /></g><g id=\"white-knight\" class=\"white knight\" fill=\"none\" fill-rule=\"evenodd\" stroke=\"#000\" stroke-width=\"1.5\" stroke-linecap=\"round\" stroke-linejoin=\"round\"><path d=\"M 22,10 C 32.5,11 38.5,18 38,39 L 15,39 C 15,30 25,32.5 23,18\" style=\"fill:#ffffff; stroke:#000000;\" /><path d=\"M 24,18 C 24.38,20.91 18.45,25.37 16,27 C 13,29 13.18,31.34 11,31 C 9.958,30.06 12.41,27.96 11,28 C 10,28 11.19,29.23 10,30 C 9,30 5.997,31 6,26 C 6,24 12,14 12,14 C 12,14 13.89,12.1 14,10.5 C 13.27,9.506 13.5,8.5 13.5,7.5 C 14.5,6.5 16.5,10 16.5,10 L 18.5,10 C 18.5,10 19.28,8.008 21,7 C 22,7 22,10 22,10\" style=\"fill:#ffffff; stroke:#000000;\" /><path d=\"M 9.5 25.5 A 0.5 0.5 0 1 1 8.5,25.5 A 0.5 0.5 0 1 1 9.5 25.5 z\" style=\"fill:#000000; stroke:#000000;\" /><path d=\"M 15 15.5 A 0.5 1.5 0 1 1 14,15.5 A 0.5 1.5 0 1 1 15 15.5 z\" transform=\"matrix(0.866,0.5,-0.5,0.866,9.693,-5.173)\" style=\"fill:#000000; stroke:#000000;\" /></g><g id=\"white-bishop\" class=\"white bishop\" fill=\"none\" fill-rule=\"evenodd\" stroke=\"#000\" stroke-width=\"1.5\" stroke-linecap=\"round\" stroke-linejoin=\"round\"><g fill=\"#fff\" stroke-linecap=\"butt\"><path d=\"M9 36c3.39-.97 10.11.43 13.5-2 3.39 2.43 10.11 1.03 13.5 2 0 0 1.65.54 3 2-.68.97-1.65.99-3 .5-3.39-.97-10.11.46-13.5-1-3.39 1.46-10.11.03-13.5 1-1.354.49-2.323.47-3-.5 1.354-1.94 3-2 3-2zM15 32c2.5 2.5 12.5 2.5 15 0 .5-1.5 0-2 0-2 0-2.5-2.5-4-2.5-4 5.5-1.5 6-11.5-5-15.5-11 4-10.5 14-5 15.5 0 0-2.5 1.5-2.5 4 0 0-.5.5 0 2zM25 8a2.5 2.5 0 1 1-5 0 2.5 2.5 0 1 1 5 0z\" /></g><path d=\"M17.5 26h10M15 30h15m-7.5-14.5v5M20 18h5\" stroke-linejoin=\"miter\" /></g><g id=\"white-rook\" class=\"white rook\" fill=\"#fff\" fill-rule=\"evenodd\" stroke=\"#000\" stroke-width=\"1.5\" stroke-linecap=\"round\" stroke-linejoin=\"round\"><path d=\"M9 39h27v-3H9v3zM12 36v-4h21v4H12zM11 14V9h4v2h5V9h5v2h5V9h4v5\" stroke-linecap=\"butt\" /><path d=\"M34 14l-3 3H14l-3-3\" /><path d=\"M31 17v12.5H14V17\" stroke-linecap=\"butt\" stroke-linejoin=\"miter\" /><path d=\"M31 29.5l1.5 2.5h-20l1.5-2.5\" /><path d=\"M11 14h23\" fill=\"none\" stroke-linejoin=\"miter\" /></g><g id=\"white-king\" class=\"white king\" fill=\"none\" fill-rule=\"evenodd\" stroke=\"#000\" stroke-width=\"1.5\" stroke-linecap=\"round\" stroke-linejoin=\"round\"><path d=\"M22.5 11.63V6M20 8h5\" stroke-linejoin=\"miter\" /><path d=\"M22.5 25s4.5-7.5 3-10.5c0 0-1-2.5-3-2.5s-3 2.5-3 2.5c-1.5 3 3 10.5 3 10.5\" fill=\"#fff\" stroke-linecap=\"butt\" stroke-linejoin=\"miter\" /><path d=\"M11.5 37c5.5 3.5 15.5 3.5 21 0v-7s9-4.5 6-10.5c-4-6.5-13.5-3.5-16 4V27v-3.5c-3.5-7.5-13-10.5-16-4-3 6 5 10 5 10V37z\" fill=\"#fff\" /><path d=\"M11.5 30c5.5-3 15.5-3 21 0m-21 3.5c5.5-3 15.5-3 21 0m-21 3.5c5.5-3 15.5-3 21 0\" /></g><g id=\"black-pawn\" class=\"black pawn\"><path d=\"M22.5 9c-2.21 0-4 1.79-4 4 0 .89.29 1.71.78 2.38C17.33 16.5 16 18.59 16 21c0 2.03.94 3.84 2.41 5.03-3 1.06-7.41 5.55-7.41 13.47h23c0-7.92-4.41-12.41-7.41-13.47 1.47-1.19 2.41-3 2.41-5.03 0-2.41-1.33-4.5-3.28-5.62.49-.67.78-1.49.78-2.38 0-2.21-1.79-4-4-4z\" fill=\"#000\" stroke=\"#000\" stroke-width=\"1.5\" stroke-linecap=\"round\" /></g><g id=\"black-knight\" class=\"black knight\" fill=\"none\" fill-rule=\"evenodd\" stroke=\"#000\" stroke-width=\"1.5\" stroke-linecap=\"round\" stroke-linejoin=\"round\"><path d=\"M 22,10 C 32.5,11 38.5,18 38,39 L 15,39 C 15,30 25,32.5 23,18\" style=\"fill:#000000; stroke:#000000;\" /><path d=\"M 24,18 C 24.38,20.91 18.45,25.37 16,27 C 13,29 13.18,31.34 11,31 C 9.958,30.06 12.41,27.96 11,28 C 10,28 11.19,29.23 10,30 C 9,30 5.997,31 6,26 C 6,24 12,14 12,14 C 12,14 13.89,12.1 14,10.5 C 13.27,9.506 13.5,8.5 13.5,7.5 C 14.5,6.5 16.5,10 16.5,10 L 18.5,10 C 18.5,10 19.28,8.008 21,7 C 22,7 22,10 22,10\" style=\"fill:#000000; stroke:#000000;\" /><path d=\"M 9.5 25.5 A 0.5 0.5 0 1 1 8.5,25.5 A 0.5 0.5 0 1 1 9.5 25.5 z\" style=\"fill:#ececec; stroke:#ececec;\" /><path d=\"M 15 15.5 A 0.5 1.5 0 1 1 14,15.5 A 0.5 1.5 0 1 1 15 15.5 z\" transform=\"matrix(0.866,0.5,-0.5,0.866,9.693,-5.173)\" style=\"fill:#ececec; stroke:#ececec;\" /><path d=\"M 24.55,10.4 L 24.1,11.85 L 24.6,12 C 27.75,13 30.25,14.49 32.5,18.75 C 34.75,23.01 35.75,29.06 35.25,39 L 35.2,39.5 L 37.45,39.5 L 37.5,39 C 38,28.94 36.62,22.15 34.25,17.66 C 31.88,13.17 28.46,11.02 25.06,10.5 L 24.55,10.4 z \" style=\"fill:#ececec; stroke:none;\" /></g><g id=\"black-bishop\" class=\"black bishop\" fill=\"none\" fill-rule=\"evenodd\" stroke=\"#000\" stroke-width=\"1.5\" stroke-linecap=\"round\" stroke-linejoin=\"round\"><path d=\"M9 36c3.39-.97 10.11.43 13.5-2 3.39 2.43 10.11 1.03 13.5 2 0 0 1.65.54 3 2-.68.97-1.65.99-3 .5-3.39-.97-10.11.46-13.5-1-3.39 1.46-10.11.03-13.5 1-1.354.49-2.323.47-3-.5 1.354-1.94 3-2 3-2zm6-4c2.5 2.5 12.5 2.5 15 0 .5-1.5 0-2 0-2 0-2.5-2.5-4-2.5-4 5.5-1.5 6-11.5-5-15.5-11 4-10.5 14-5 15.5 0 0-2.5 1.5-2.5 4 0 0-.5.5 0 2zM25 8a2.5 2.5 0 1 1-5 0 2.5 2.5 0 1 1 5 0z\" fill=\"#000\" stroke-linecap=\"butt\" /><path d=\"M17.5 26h10M15 30h15m-7.5-14.5v5M20 18h5\" stroke=\"#fff\" stroke-linejoin=\"miter\" /></g><g id=\"black-rook\" class=\"black rook\" fill=\"#000\" fill-rule=\"evenodd\" stroke=\"#000\" stroke-width=\"1.5\" stroke-linecap=\"round\" stroke-linejoin=\"round\"><path d=\"M9 39h27v-3H9v3zM12.5 32l1.5-2.5h17l1.5 2.5h-20zM12 36v-4h21v4H12z\" stroke-linecap=\"butt\" /><path d=\"M14 29.5v-13h17v13H14z\" stroke-linecap=\"butt\" stroke-linejoin=\"miter\" /><path d=\"M14 16.5L11 14h23l-3 2.5H14zM11 14V9h4v2h5V9h5v2h5V9h4v5H11z\" stroke-linecap=\"butt\" /><path d=\"M12 35.5h21M13 31.5h19M14 29.5h17M14 16.5h17M11 14h23\" fill=\"none\" stroke=\"#fff\" stroke-width=\"1\" stroke-linejoin=\"miter\" /></g><g id=\"black-queen\" class=\"black queen\" fill=\"#000\" fill-rule=\"evenodd\" stroke=\"#000\" stroke-width=\"1.5\" stroke-linecap=\"round\" stroke-linejoin=\"round\"><g fill=\"#000\" stroke=\"none\"><circle cx=\"6\" cy=\"12\" r=\"2.75\" /><circle cx=\"14\" cy=\"9\" r=\"2.75\" /><circle cx=\"22.5\" cy=\"8\" r=\"2.75\" /><circle cx=\"31\" cy=\"9\" r=\"2.75\" /><circle cx=\"39\" cy=\"12\" r=\"2.75\" /></g><path d=\"M9 26c8.5-1.5 21-1.5 27 0l2.5-12.5L31 25l-.3-14.1-5.2 13.6-3-14.5-3 14.5-5.2-13.6L14 25 6.5 13.5 9 26zM9 26c0 2 1.5 2 2.5 4 1 1.5 1 1 .5 3.5-1.5 1-1.5 2.5-1.5 2.5-1.5 1.5.5 2.5.5 2.5 6.5 1 16.5 1 23 0 0 0 1.5-1 0-2.5 0 0 .5-1.5-1-2.5-.5-2.5-.5-2 .5-3.5 1-2 2.5-2 2.5-4-8.5-1.5-18.5-1.5-27 0z\" stroke-linecap=\"butt\" /><path d=\"M11 38.5a35 35 1 0 0 23 0\" fill=\"none\" stroke-linecap=\"butt\" /><path d=\"M11 29a35 35 1 0 1 23 0M12.5 31.5h20M11.5 34.5a35 35 1 0 0 22 0M10.5 37.5a35 35 1 0 0 24 0\" fill=\"none\" stroke=\"#fff\" /></g><g id=\"black-king\" class=\"black king\" fill=\"none\" fill-rule=\"evenodd\" stroke=\"#000\" stroke-width=\"1.5\" stroke-linecap=\"round\" stroke-linejoin=\"round\"><path d=\"M22.5 11.63V6\" stroke-linejoin=\"miter\" /><path d=\"M22.5 25s4.5-7.5 3-10.5c0 0-1-2.5-3-2.5s-3 2.5-3 2.5c-1.5 3 3 10.5 3 10.5\" fill=\"#000\" stroke-linecap=\"butt\" stroke-linejoin=\"miter\" /><path d=\"M11.5 37c5.5 3.5 15.5 3.5 21 0v-7s9-4.5 6-10.5c-4-6.5-13.5-3.5-16 4V27v-3.5c-3.5-7.5-13-10.5-16-4-3 6 5 10 5 10V37z\" fill=\"#000\" /><path d=\"M20 8h5\" stroke-linejoin=\"miter\" /><path d=\"M32 29.5s8.5-4 6.03-9.65C34.15 14 25 18 22.5 24.5l.01 2.1-.01-2.1C20 18 9.906 14 6.997 19.85c-2.497 5.65 4.853 9 4.853 9M11.5 30c5.5-3 15.5-3 21 0m-21 3.5c5.5-3 15.5-3 21 0m-21 3.5c5.5-3 15.5-3 21 0\" stroke=\"#fff\" /></g></defs><rect x=\"0\" y=\"0\" width=\"390\" height=\"390\" fill=\"#212121\" /><g transform=\"translate(20, 0) scale(0.75, 0.75)\" fill=\"#e5e5e5\" stroke=\"#e5e5e5\"><path d=\"M23.328 10.016q-1.742 0-2.414.398-.672.398-.672 1.36 0 .765.5 1.218.508.445 1.375.445 1.196 0 1.914-.843.727-.852.727-2.258v-.32zm2.867-.594v4.992h-1.437v-1.328q-.492.797-1.227 1.18-.734.375-1.797.375-1.343 0-2.14-.75-.79-.758-.79-2.024 0-1.476.985-2.226.992-.75 2.953-.75h2.016V8.75q0-.992-.656-1.531-.649-.547-1.829-.547-.75 0-1.46.18-.711.18-1.368.539V6.062q.79-.304 1.532-.453.742-.156 1.445-.156 1.898 0 2.836.984.937.985.937 2.985z\" /></g><g transform=\"translate(20, 375) scale(0.75, 0.75)\" fill=\"#e5e5e5\" stroke=\"#e5e5e5\"><path d=\"M23.328 10.016q-1.742 0-2.414.398-.672.398-.672 1.36 0 .765.5 1.218.508.445 1.375.445 1.196 0 1.914-.843.727-.852.727-2.258v-.32zm2.867-.594v4.992h-1.437v-1.328q-.492.797-1.227 1.18-.734.375-1.797.375-1.343 0-2.14-.75-.79-.758-.79-2.024 0-1.476.985-2.226.992-.75 2.953-.75h2.016V8.75q0-.992-.656-1.531-.649-.547-1.829-.547-.75 0-1.46.18-.711.18-1.368.539V6.062q.79-.304 1.532-.453.742-.156 1.445-.156 1.898 0 2.836.984.937.985.937 2.985z\" /></g><g transform=\"translate(65, 0) scale(0.75, 0.75)\" fill=\"#e5e5e5\" stroke=\"#e5e5e5\"><path d=\"M24.922 10.047q0-1.586-.656-2.485-.649-.906-1.79-.906-1.14 0-1.796.906-.649.899-.649 2.485 0 1.586.649 2.492.656.898 1.797.898 1.14 0 1.789-.898.656-.906.656-2.492zm-4.89-3.055q.452-.781 1.14-1.156.695-.383 1.656-.383 1.594 0 2.586 1.266 1 1.265 1 3.328 0 2.062-1 3.328-.992 1.266-2.586 1.266-.96 0-1.656-.375-.688-.383-1.14-1.164v1.312h-1.446V2.258h1.445z\" /></g><g transform=\"translate(65, 375) scale(0.75, 0.75)\" fill=\"#e5e5e5\" stroke=\"#e5e5e5\"><path d=\"M24.922 10.047q0-1.586-.656-2.485-.649-.906-1.79-.906-1.14 0-1.796.906-.649.899-.649 2.485 0 1.586.649 2.492.656.898 1.797.898 1.14 0 1.789-.898.656-.906.656-2.492zm-4.89-3.055q.452-.781 1.14-1.156.695-.383 1.656-.383 1.594 0 2.586 1.266 1 1.265 1 3.328 0 2.062-1 3.328-.992 1.266-2.586 1.266-.96 0-1.656-.375-.688-.383-1.14-1.164v1.312h-1.446V2.258h1.445z\" /></g><g transform=\"translate(110, 0) scale(0.75, 0.75)\" fill=\"#e5e5e5\" stroke=\"#e5e5e5\"><path d=\"M25.96 6v1.344q-.608-.336-1.226-.5-.609-.172-1.234-.172-1.398 0-2.172.89-.773.883-.773 2.485 0 1.601.773 2.492.774.883 2.172.883.625 0 1.234-.164.618-.172 1.227-.508v1.328q-.602.281-1.25.422-.64.14-1.367.14-1.977 0-3.14-1.242-1.165-1.242-1.165-3.351 0-2.14 1.172-3.367 1.18-1.227 3.227-1.227.664 0 1.296.14.633.134 1.227.407z\" /></g><g transform=\"translate(110, 375) scale(0.75, 0.75)\" fill=\"#e5e5e5\" stroke=\"#e5e5e5\"><path d=\"M25.96 6v1.344q-.608-.336-1.226-.5-.609-.172-1.234-.172-1.398 0-2.172.89-.773.883-.773 2.485 0 1.601.773 2.492.774.883 2.172.883.625 0 1.234-.164.618-.172 1.227-.508v1.328q-.602.281-1.25.422-.64.14-1.367.14-1.977 0-3.14-1.242-1.165-1.242-1.165-3.351 0-2.14 1.172-3.367 1.18-1.227 3.227-1.227.664 0 1.296.14.633.134 1.227.407z\" /></g><g transform=\"translate(155, 0) scale(0.75, 0.75)\" fill=\"#e5e5e5\" stroke=\"#e5e5e5\"><path d=\"M24.973 6.992V2.258h1.437v12.156h-1.437v-1.312q-.453.78-1.149 1.164-.687.375-1.656.375-1.586 0-2.586-1.266-.992-1.266-.992-3.328 0-2.063.992-3.328 1-1.266 2.586-1.266.969 0 1.656.383.696.375 1.149 1.156zm-4.899 3.055q0 1.586.649 2.492.656.898 1.797.898 1.14 0 1.796-.898.657-.906.657-2.492 0-1.586-.657-2.485-.656-.906-1.796-.906-1.141 0-1.797.906-.649.899-.649 2.485z\" /></g><g transform=\"translate(155, 375) scale(0.75, 0.75)\" fill=\"#e5e5e5\" stroke=\"#e5e5e5\"><path d=\"M24.973 6.992V2.258h1.437v12.156h-1.437v-1.312q-.453.78-1.149 1.164-.687.375-1.656.375-1.586 0-2.586-1.266-.992-1.266-.992-3.328 0-2.063.992-3.328 1-1.266 2.586-1.266.969 0 1.656.383.696.375 1.149 1.156zm-4.899 3.055q0 1.586.649 2.492.656.898 1.797.898 1.14 0 1.796-.898.657-.906.657-2.492 0-1.586-.657-2.485-.656-.906-1.796-.906-1.141 0-1.797.906-.649.899-.649 2.485z\" /></g><g transform=\"translate(200, 0) scale(0.75, 0.75)\" fill=\"#e5e5e5\" stroke=\"#e5e5e5\"><path d=\"M26.555 9.68v.703h-6.61q.094 1.484.89 2.265.806.774 2.235.774.828 0 1.602-.203.781-.203 1.547-.61v1.36q-.774.328-1.586.5-.813.172-1.649.172-2.093 0-3.32-1.22-1.219-1.218-1.219-3.296 0-2.148 1.157-3.406 1.164-1.266 3.132-1.266 1.766 0 2.79 1.14 1.03 1.134 1.03 3.087zm-1.438-.422q-.015-1.18-.664-1.883-.64-.703-1.703-.703-1.203 0-1.93.68-.718.68-.828 1.914z\" /></g><g transform=\"translate(200, 375) scale(0.75, 0.75)\" fill=\"#e5e5e5\" stroke=\"#e5e5e5\"><path d=\"M26.555 9.68v.703h-6.61q.094 1.484.89 2.265.806.774 2.235.774.828 0 1.602-.203.781-.203 1.547-.61v1.36q-.774.328-1.586.5-.813.172-1.649.172-2.093 0-3.32-1.22-1.219-1.218-1.219-3.296 0-2.148 1.157-3.406 1.164-1.266 3.132-1.266 1.766 0 2.79 1.14 1.03 1.134 1.03 3.087zm-1.438-.422q-.015-1.18-.664-1.883-.64-.703-1.703-.703-1.203 0-1.93.68-.718.68-.828 1.914z\" /></g><g transform=\"translate(245, 0) scale(0.75, 0.75)\" fill=\"#e5e5e5\" stroke=\"#e5e5e5\"><path d=\"M25.285 2.258v1.195H23.91q-.773 0-1.078.313-.297.312-.297 1.125v.773h2.367v1.117h-2.367v7.633H21.09V6.781h-1.375V5.664h1.375v-.61q0-1.46.68-2.124.68-.672 2.156-.672z\" /></g><g transform=\"translate(245, 375) scale(0.75, 0.75)\" fill=\"#e5e5e5\" stroke=\"#e5e5e5\"><path d=\"M25.285 2.258v1.195H23.91q-.773 0-1.078.313-.297.312-.297 1.125v.773h2.367v1.117h-2.367v7.633H21.09V6.781h-1.375V5.664h1.375v-.61q0-1.46.68-2.124.68-.672 2.156-.672z\" /></g><g transform=\"translate(290, 0) scale(0.75, 0.75)\" fill=\"#e5e5e5\" stroke=\"#e5e5e5\"><path d=\"M24.973 9.937q0-1.562-.649-2.421-.64-.86-1.804-.86-1.157 0-1.805.86-.64.859-.64 2.421 0 1.555.64 2.415.648.859 1.805.859 1.164 0 1.804-.86.649-.859.649-2.414zm1.437 3.391q0 2.234-.992 3.32-.992 1.094-3.04 1.094-.757 0-1.429-.117-.672-.11-1.304-.344v-1.398q.632.344 1.25.508.617.164 1.257.164 1.414 0 2.118-.743.703-.734.703-2.226v-.711q-.446.773-1.141 1.156-.695.383-1.664.383-1.61 0-2.594-1.227-.984-1.226-.984-3.25 0-2.03.984-3.257.985-1.227 2.594-1.227.969 0 1.664.383t1.14 1.156V5.664h1.438z\" /></g><g transform=\"translate(290, 375) scale(0.75, 0.75)\" fill=\"#e5e5e5\" stroke=\"#e5e5e5\"><path d=\"M24.973 9.937q0-1.562-.649-2.421-.64-.86-1.804-.86-1.157 0-1.805.86-.64.859-.64 2.421 0 1.555.64 2.415.648.859 1.805.859 1.164 0 1.804-.86.649-.859.649-2.414zm1.437 3.391q0 2.234-.992 3.32-.992 1.094-3.04 1.094-.757 0-1.429-.117-.672-.11-1.304-.344v-1.398q.632.344 1.25.508.617.164 1.257.164 1.414 0 2.118-.743.703-.734.703-2.226v-.711q-.446.773-1.141 1.156-.695.383-1.664.383-1.61 0-2.594-1.227-.984-1.226-.984-3.25 0-2.03.984-3.257.985-1.227 2.594-1.227.969 0 1.664.383t1.14 1.156V5.664h1.438z\" /></g><g transform=\"translate(335, 0) scale(0.75, 0.75)\" fill=\"#e5e5e5\" stroke=\"#e5e5e5\"><path d=\"M26.164 9.133v5.281h-1.437V9.18q0-1.243-.485-1.86-.484-.617-1.453-.617-1.164 0-1.836.742-.672.742-.672 2.024v4.945h-1.445V2.258h1.445v4.765q.516-.789 1.211-1.18.703-.39 1.617-.39 1.508 0 2.282.938.773.93.773 2.742z\" /></g><g transform=\"translate(335, 375) scale(0.75, 0.75)\" fill=\"#e5e5e5\" stroke=\"#e5e5e5\"><path d=\"M26.164 9.133v5.281h-1.437V9.18q0-1.243-.485-1.86-.484-.617-1.453-.617-1.164 0-1.836.742-.672.742-.672 2.024v4.945h-1.445V2.258h1.445v4.765q.516-.789 1.211-1.18.703-.39 1.617-.39 1.508 0 2.282.938.773.93.773 2.742z\" /></g><g transform=\"translate(0, 335) scale(0.75, 0.75)\" fill=\"#e5e5e5\" stroke=\"#e5e5e5\"><path d=\"M6.754 26.996h2.578v-8.898l-2.805.562v-1.437l2.79-.563h1.578v10.336h2.578v1.328h-6.72z\" /></g><g transform=\"translate(375, 335) scale(0.75, 0.75)\" fill=\"#e5e5e5\" stroke=\"#e5e5e5\"><path d=\"M6.754 26.996h2.578v-8.898l-2.805.562v-1.437l2.79-.563h1.578v10.336h2.578v1.328h-6.72z\" /></g><g transform=\"translate(0, 290) scale(0.75, 0.75)\" fill=\"#e5e5e5\" stroke=\"#e5e5e5\"><path d=\"M8.195 26.996h5.508v1.328H6.297v-1.328q.898-.93 2.445-2.492 1.555-1.57 1.953-2.024.758-.851 1.055-1.437.305-.594.305-1.164 0-.93-.657-1.516-.648-.586-1.695-.586-.742 0-1.57.258-.82.258-1.758.781v-1.593q.953-.383 1.781-.578.828-.196 1.516-.196 1.812 0 2.89.906 1.079.907 1.079 2.422 0 .72-.274 1.368-.265.64-.976 1.515-.196.227-1.243 1.313-1.046 1.078-2.953 3.023z\" /></g><g transform=\"translate(375, 290) scale(0.75, 0.75)\" fill=\"#e5e5e5\" stroke=\"#e5e5e5\"><path d=\"M8.195 26.996h5.508v1.328H6.297v-1.328q.898-.93 2.445-2.492 1.555-1.57 1.953-2.024.758-.851 1.055-1.437.305-.594.305-1.164 0-.93-.657-1.516-.648-.586-1.695-.586-.742 0-1.57.258-.82.258-1.758.781v-1.593q.953-.383 1.781-.578.828-.196 1.516-.196 1.812 0 2.89.906 1.079.907 1.079 2.422 0 .72-.274 1.368-.265.64-.976 1.515-.196.227-1.243 1.313-1.046 1.078-2.953 3.023z\" /></g><g transform=\"translate(0, 245) scale(0.75, 0.75)\" fill=\"#e5e5e5\" stroke=\"#e5e5e5\"><path d=\"M11.434 22.035q1.132.242 1.765 1.008.64.766.64 1.89 0 1.727-1.187 2.672-1.187.946-3.375.946-.734 0-1.515-.149-.774-.14-1.602-.43V26.45q.656.383 1.438.578.78.196 1.632.196 1.485 0 2.258-.586.782-.586.782-1.703 0-1.032-.727-1.61-.719-.586-2.008-.586h-1.36v-1.297h1.423q1.164 0 1.78-.46.618-.47.618-1.344 0-.899-.64-1.375-.633-.485-1.82-.485-.65 0-1.391.141-.743.14-1.633.437V16.95q.898-.25 1.68-.375.788-.125 1.484-.125 1.797 0 2.844.82 1.046.813 1.046 2.204 0 .968-.554 1.64-.555.664-1.578.922z\" /></g><g transform=\"translate(375, 245) scale(0.75, 0.75)\" fill=\"#e5e5e5\" stroke=\"#e5e5e5\"><path d=\"M11.434 22.035q1.132.242 1.765 1.008.64.766.64 1.89 0 1.727-1.187 2.672-1.187.946-3.375.946-.734 0-1.515-.149-.774-.14-1.602-.43V26.45q.656.383 1.438.578.78.196 1.632.196 1.485 0 2.258-.586.782-.586.782-1.703 0-1.032-.727-1.61-.719-.586-2.008-.586h-1.36v-1.297h1.423q1.164 0 1.78-.46.618-.47.618-1.344 0-.899-.64-1.375-.633-.485-1.82-.485-.65 0-1.391.141-.743.14-1.633.437V16.95q.898-.25 1.68-.375.788-.125 1.484-.125 1.797 0 2.844.82 1.046.813 1.046 2.204 0 .968-.554 1.64-.555.664-1.578.922z\" /></g><g transform=\"translate(0, 200) scale(0.75, 0.75)\" fill=\"#e5e5e5\" stroke=\"#e5e5e5\"><path d=\"M11.016 18.035L7.03 24.262h3.985zm-.414-1.375h1.984v7.602h1.664v1.312h-1.664v2.75h-1.57v-2.75H5.75v-1.523z\" /></g><g transform=\"translate(375, 200) scale(0.75, 0.75)\" fill=\"#e5e5e5\" stroke=\"#e5e5e5\"><path d=\"M11.016 18.035L7.03 24.262h3.985zm-.414-1.375h1.984v7.602h1.664v1.312h-1.664v2.75h-1.57v-2.75H5.75v-1.523z\" /></g><g transform=\"translate(0, 155) scale(0.75, 0.75)\" fill=\"#e5e5e5\" stroke=\"#e5e5e5\"><path d=\"M6.719 16.66h6.195v1.328h-4.75v2.86q.344-.118.688-.172.343-.063.687-.063 1.953 0 3.094 1.07 1.14 1.07 1.14 2.899 0 1.883-1.171 2.93-1.172 1.039-3.305 1.039-.735 0-1.5-.125-.758-.125-1.57-.375v-1.586q.703.383 1.453.57.75.188 1.586.188 1.351 0 2.14-.711.79-.711.79-1.93 0-1.219-.79-1.93-.789-.71-2.14-.71-.633 0-1.266.14-.625.14-1.281.438z\" /></g><g transform=\"translate(375, 155) scale(0.75, 0.75)\" fill=\"#e5e5e5\" stroke=\"#e5e5e5\"><path d=\"M6.719 16.66h6.195v1.328h-4.75v2.86q.344-.118.688-.172.343-.063.687-.063 1.953 0 3.094 1.07 1.14 1.07 1.14 2.899 0 1.883-1.171 2.93-1.172 1.039-3.305 1.039-.735 0-1.5-.125-.758-.125-1.57-.375v-1.586q.703.383 1.453.57.75.188 1.586.188 1.351 0 2.14-.711.79-.711.79-1.93 0-1.219-.79-1.93-.789-.71-2.14-.71-.633 0-1.266.14-.625.14-1.281.438z\" /></g><g transform=\"translate(0, 110) scale(0.75, 0.75)\" fill=\"#e5e5e5\" stroke=\"#e5e5e5\"><path d=\"M10.137 21.863q-1.063 0-1.688.727-.617.726-.617 1.992 0 1.258.617 1.992.625.727 1.688.727 1.062 0 1.68-.727.624-.734.624-1.992 0-1.266-.625-1.992-.617-.727-1.68-.727zm3.133-4.945v1.437q-.594-.28-1.204-.43-.601-.148-1.195-.148-1.562 0-2.39 1.055-.82 1.055-.938 3.188.46-.68 1.156-1.04.696-.367 1.531-.367 1.758 0 2.774 1.07 1.023 1.063 1.023 2.899 0 1.797-1.062 2.883-1.063 1.086-2.828 1.086-2.024 0-3.094-1.547-1.07-1.555-1.07-4.5 0-2.766 1.312-4.406 1.313-1.649 3.524-1.649.593 0 1.195.117.61.118 1.266.352z\" /></g><g transform=\"translate(375, 110) scale(0.75, 0.75)\" fill=\"#e5e5e5\" stroke=\"#e5e5e5\"><path d=\"M10.137 21.863q-1.063 0-1.688.727-.617.726-.617 1.992 0 1.258.617 1.992.625.727 1.688.727 1.062 0 1.68-.727.624-.734.624-1.992 0-1.266-.625-1.992-.617-.727-1.68-.727zm3.133-4.945v1.437q-.594-.28-1.204-.43-.601-.148-1.195-.148-1.562 0-2.39 1.055-.82 1.055-.938 3.188.46-.68 1.156-1.04.696-.367 1.531-.367 1.758 0 2.774 1.07 1.023 1.063 1.023 2.899 0 1.797-1.062 2.883-1.063 1.086-2.828 1.086-2.024 0-3.094-1.547-1.07-1.555-1.07-4.5 0-2.766 1.312-4.406 1.313-1.649 3.524-1.649.593 0 1.195.117.61.118 1.266.352z\" /></g><g transform=\"translate(0, 65) scale(0.75, 0.75)\" fill=\"#e5e5e5\" stroke=\"#e5e5e5\"><path d=\"M6.25 16.66h7.5v.672L9.516 28.324H7.867l3.985-10.336H6.25z\" /></g><g transform=\"translate(375, 65) scale(0.75, 0.75)\" fill=\"#e5e5e5\" stroke=\"#e5e5e5\"><path d=\"M6.25 16.66h7.5v.672L9.516 28.324H7.867l3.985-10.336H6.25z\" /></g><g transform=\"translate(0, 20) scale(0.75, 0.75)\" fill=\"#e5e5e5\" stroke=\"#e5e5e5\"><path d=\"M10 22.785q-1.125 0-1.773.602-.641.601-.641 1.656t.64 1.656q.649.602 1.774.602t1.773-.602q.649-.61.649-1.656 0-1.055-.649-1.656-.64-.602-1.773-.602zm-1.578-.672q-1.016-.25-1.586-.945-.563-.695-.563-1.695 0-1.399.993-2.211 1-.813 2.734-.813 1.742 0 2.734.813.993.812.993 2.21 0 1-.57 1.696-.563.695-1.571.945 1.14.266 1.773 1.04.641.773.641 1.89 0 1.695-1.04 2.602-1.03.906-2.96.906t-2.969-.906Q6 26.738 6 25.043q0-1.117.64-1.89.641-.774 1.782-1.04zm-.578-2.492q0 .906.562 1.414.57.508 1.594.508 1.016 0 1.586-.508.578-.508.578-1.414 0-.906-.578-1.414-.57-.508-1.586-.508-1.023 0-1.594.508-.562.508-.562 1.414z\" /></g><g transform=\"translate(375, 20) scale(0.75, 0.75)\" fill=\"#e5e5e5\" stroke=\"#e5e5e5\"><path d=\"M10 22.785q-1.125 0-1.773.602-.641.601-.641 1.656t.64 1.656q.649.602 1.774.602t1.773-.602q.649-.61.649-1.656 0-1.055-.649-1.656-.64-.602-1.773-.602zm-1.578-.672q-1.016-.25-1.586-.945-.563-.695-.563-1.695 0-1.399.993-2.211 1-.813 2.734-.813 1.742 0 2.734.813.993.812.993 2.21 0 1-.57 1.696-.563.695-1.571.945 1.14.266 1.773 1.04.641.773.641 1.89 0 1.695-1.04 2.602-1.03.906-2.96.906t-2.969-.906Q6 26.738 6 25.043q0-1.117.64-1.89.641-.774 1.782-1.04zm-.578-2.492q0 .906.562 1.414.57.508 1.594.508 1.016 0 1.586-.508.578-.508.578-1.414 0-.906-.578-1.414-.57-.508-1.586-.508-1.023 0-1.594.508-.562.508-.562 1.414z\" /></g><rect x=\"15\" y=\"330\" width=\"45\" height=\"45\" class=\"square dark a1\" stroke=\"none\" fill=\"#d18b47\" /><rect x=\"60\" y=\"330\" width=\"45\" height=\"45\" class=\"square light b1\" stroke=\"none\" fill=\"#ffce9e\" /><rect x=\"105\" y=\"330\" width=\"45\" height=\"45\" class=\"square dark c1\" stroke=\"none\" fill=\"#d18b47\" /><rect x=\"150\" y=\"330\" width=\"45\" height=\"45\" class=\"square light d1\" stroke=\"none\" fill=\"#ffce9e\" /><rect x=\"195\" y=\"330\" width=\"45\" height=\"45\" class=\"square dark e1\" stroke=\"none\" fill=\"#d18b47\" /><rect x=\"240\" y=\"330\" width=\"45\" height=\"45\" class=\"square light f1\" stroke=\"none\" fill=\"#ffce9e\" /><rect x=\"285\" y=\"330\" width=\"45\" height=\"45\" class=\"square dark g1\" stroke=\"none\" fill=\"#d18b47\" /><rect x=\"330\" y=\"330\" width=\"45\" height=\"45\" class=\"square light h1\" stroke=\"none\" fill=\"#ffce9e\" /><rect x=\"15\" y=\"285\" width=\"45\" height=\"45\" class=\"square light a2\" stroke=\"none\" fill=\"#ffce9e\" /><rect x=\"60\" y=\"285\" width=\"45\" height=\"45\" class=\"square dark b2\" stroke=\"none\" fill=\"#d18b47\" /><rect x=\"105\" y=\"285\" width=\"45\" height=\"45\" class=\"square light c2\" stroke=\"none\" fill=\"#ffce9e\" /><rect x=\"150\" y=\"285\" width=\"45\" height=\"45\" class=\"square dark d2\" stroke=\"none\" fill=\"#d18b47\" /><rect x=\"195\" y=\"285\" width=\"45\" height=\"45\" class=\"square light e2\" stroke=\"none\" fill=\"#ffce9e\" /><rect x=\"240\" y=\"285\" width=\"45\" height=\"45\" class=\"square dark f2\" stroke=\"none\" fill=\"#d18b47\" /><rect x=\"285\" y=\"285\" width=\"45\" height=\"45\" class=\"square light g2\" stroke=\"none\" fill=\"#ffce9e\" /><rect x=\"330\" y=\"285\" width=\"45\" height=\"45\" class=\"square dark h2\" stroke=\"none\" fill=\"#d18b47\" /><rect x=\"15\" y=\"240\" width=\"45\" height=\"45\" class=\"square dark a3\" stroke=\"none\" fill=\"#d18b47\" /><rect x=\"60\" y=\"240\" width=\"45\" height=\"45\" class=\"square light b3\" stroke=\"none\" fill=\"#ffce9e\" /><rect x=\"105\" y=\"240\" width=\"45\" height=\"45\" class=\"square dark c3\" stroke=\"none\" fill=\"#d18b47\" /><rect x=\"150\" y=\"240\" width=\"45\" height=\"45\" class=\"square light d3\" stroke=\"none\" fill=\"#ffce9e\" /><rect x=\"195\" y=\"240\" width=\"45\" height=\"45\" class=\"square dark e3\" stroke=\"none\" fill=\"#d18b47\" /><rect x=\"240\" y=\"240\" width=\"45\" height=\"45\" class=\"square light f3\" stroke=\"none\" fill=\"#ffce9e\" /><rect x=\"285\" y=\"240\" width=\"45\" height=\"45\" class=\"square dark g3\" stroke=\"none\" fill=\"#d18b47\" /><rect x=\"330\" y=\"240\" width=\"45\" height=\"45\" class=\"square light h3\" stroke=\"none\" fill=\"#ffce9e\" /><rect x=\"15\" y=\"195\" width=\"45\" height=\"45\" class=\"square light a4\" stroke=\"none\" fill=\"#ffce9e\" /><rect x=\"60\" y=\"195\" width=\"45\" height=\"45\" class=\"square dark b4\" stroke=\"none\" fill=\"#d18b47\" /><rect x=\"105\" y=\"195\" width=\"45\" height=\"45\" class=\"square light c4\" stroke=\"none\" fill=\"#ffce9e\" /><rect x=\"150\" y=\"195\" width=\"45\" height=\"45\" class=\"square dark d4\" stroke=\"none\" fill=\"#d18b47\" /><rect x=\"195\" y=\"195\" width=\"45\" height=\"45\" class=\"square light e4\" stroke=\"none\" fill=\"#ffce9e\" /><rect x=\"240\" y=\"195\" width=\"45\" height=\"45\" class=\"square dark f4\" stroke=\"none\" fill=\"#d18b47\" /><rect x=\"285\" y=\"195\" width=\"45\" height=\"45\" class=\"square light g4\" stroke=\"none\" fill=\"#ffce9e\" /><rect x=\"330\" y=\"195\" width=\"45\" height=\"45\" class=\"square dark h4\" stroke=\"none\" fill=\"#d18b47\" /><rect x=\"15\" y=\"150\" width=\"45\" height=\"45\" class=\"square dark a5\" stroke=\"none\" fill=\"#d18b47\" /><rect x=\"60\" y=\"150\" width=\"45\" height=\"45\" class=\"square light b5\" stroke=\"none\" fill=\"#ffce9e\" /><rect x=\"105\" y=\"150\" width=\"45\" height=\"45\" class=\"square dark c5\" stroke=\"none\" fill=\"#d18b47\" /><rect x=\"150\" y=\"150\" width=\"45\" height=\"45\" class=\"square light d5\" stroke=\"none\" fill=\"#ffce9e\" /><rect x=\"195\" y=\"150\" width=\"45\" height=\"45\" class=\"square dark e5\" stroke=\"none\" fill=\"#d18b47\" /><rect x=\"240\" y=\"150\" width=\"45\" height=\"45\" class=\"square light f5\" stroke=\"none\" fill=\"#ffce9e\" /><rect x=\"285\" y=\"150\" width=\"45\" height=\"45\" class=\"square dark g5\" stroke=\"none\" fill=\"#d18b47\" /><rect x=\"330\" y=\"150\" width=\"45\" height=\"45\" class=\"square light lastmove h5\" stroke=\"none\" fill=\"#cdd16a\" /><rect x=\"15\" y=\"105\" width=\"45\" height=\"45\" class=\"square light a6\" stroke=\"none\" fill=\"#ffce9e\" /><rect x=\"60\" y=\"105\" width=\"45\" height=\"45\" class=\"square dark b6\" stroke=\"none\" fill=\"#d18b47\" /><rect x=\"105\" y=\"105\" width=\"45\" height=\"45\" class=\"square light c6\" stroke=\"none\" fill=\"#ffce9e\" /><rect x=\"150\" y=\"105\" width=\"45\" height=\"45\" class=\"square dark d6\" stroke=\"none\" fill=\"#d18b47\" /><rect x=\"195\" y=\"105\" width=\"45\" height=\"45\" class=\"square light e6\" stroke=\"none\" fill=\"#ffce9e\" /><rect x=\"240\" y=\"105\" width=\"45\" height=\"45\" class=\"square dark lastmove f6\" stroke=\"none\" fill=\"#aaa23b\" /><rect x=\"285\" y=\"105\" width=\"45\" height=\"45\" class=\"square light g6\" stroke=\"none\" fill=\"#ffce9e\" /><rect x=\"330\" y=\"105\" width=\"45\" height=\"45\" class=\"square dark h6\" stroke=\"none\" fill=\"#d18b47\" /><rect x=\"15\" y=\"60\" width=\"45\" height=\"45\" class=\"square dark a7\" stroke=\"none\" fill=\"#d18b47\" /><rect x=\"60\" y=\"60\" width=\"45\" height=\"45\" class=\"square light b7\" stroke=\"none\" fill=\"#ffce9e\" /><rect x=\"105\" y=\"60\" width=\"45\" height=\"45\" class=\"square dark c7\" stroke=\"none\" fill=\"#d18b47\" /><rect x=\"150\" y=\"60\" width=\"45\" height=\"45\" class=\"square light d7\" stroke=\"none\" fill=\"#ffce9e\" /><rect x=\"195\" y=\"60\" width=\"45\" height=\"45\" class=\"square dark e7\" stroke=\"none\" fill=\"#d18b47\" /><rect x=\"240\" y=\"60\" width=\"45\" height=\"45\" class=\"square light f7\" stroke=\"none\" fill=\"#ffce9e\" /><rect x=\"285\" y=\"60\" width=\"45\" height=\"45\" class=\"square dark g7\" stroke=\"none\" fill=\"#d18b47\" /><rect x=\"330\" y=\"60\" width=\"45\" height=\"45\" class=\"square light h7\" stroke=\"none\" fill=\"#ffce9e\" /><rect x=\"15\" y=\"15\" width=\"45\" height=\"45\" class=\"square light a8\" stroke=\"none\" fill=\"#ffce9e\" /><rect x=\"60\" y=\"15\" width=\"45\" height=\"45\" class=\"square dark b8\" stroke=\"none\" fill=\"#d18b47\" /><rect x=\"105\" y=\"15\" width=\"45\" height=\"45\" class=\"square light c8\" stroke=\"none\" fill=\"#ffce9e\" /><rect x=\"150\" y=\"15\" width=\"45\" height=\"45\" class=\"square dark d8\" stroke=\"none\" fill=\"#d18b47\" /><rect x=\"195\" y=\"15\" width=\"45\" height=\"45\" class=\"square light e8\" stroke=\"none\" fill=\"#ffce9e\" /><rect x=\"240\" y=\"15\" width=\"45\" height=\"45\" class=\"square dark f8\" stroke=\"none\" fill=\"#d18b47\" /><rect x=\"285\" y=\"15\" width=\"45\" height=\"45\" class=\"square light g8\" stroke=\"none\" fill=\"#ffce9e\" /><rect x=\"330\" y=\"15\" width=\"45\" height=\"45\" class=\"square dark h8\" stroke=\"none\" fill=\"#d18b47\" /><use href=\"#white-knight\" xlink:href=\"#white-knight\" transform=\"translate(60, 330)\" /><use href=\"#white-king\" xlink:href=\"#white-king\" transform=\"translate(195, 330)\" /><use href=\"#white-bishop\" xlink:href=\"#white-bishop\" transform=\"translate(240, 330)\" /><use href=\"#white-knight\" xlink:href=\"#white-knight\" transform=\"translate(285, 330)\" /><use href=\"#white-rook\" xlink:href=\"#white-rook\" transform=\"translate(330, 330)\" /><use href=\"#white-bishop\" xlink:href=\"#white-bishop\" transform=\"translate(60, 285)\" /><use href=\"#white-pawn\" xlink:href=\"#white-pawn\" transform=\"translate(240, 240)\" /><use href=\"#white-pawn\" xlink:href=\"#white-pawn\" transform=\"translate(330, 240)\" /><use href=\"#white-rook\" xlink:href=\"#white-rook\" transform=\"translate(15, 195)\" /><use href=\"#white-pawn\" xlink:href=\"#white-pawn\" transform=\"translate(105, 195)\" /><use href=\"#white-pawn\" xlink:href=\"#white-pawn\" transform=\"translate(285, 195)\" /><use href=\"#white-pawn\" xlink:href=\"#white-pawn\" transform=\"translate(15, 150)\" /><use href=\"#white-pawn\" xlink:href=\"#white-pawn\" transform=\"translate(60, 150)\" /><use href=\"#black-pawn\" xlink:href=\"#black-pawn\" transform=\"translate(105, 150)\" /><use href=\"#white-pawn\" xlink:href=\"#white-pawn\" transform=\"translate(150, 150)\" /><use href=\"#black-pawn\" xlink:href=\"#black-pawn\" transform=\"translate(195, 150)\" /><use href=\"#white-pawn\" xlink:href=\"#white-pawn\" transform=\"translate(240, 150)\" /><use href=\"#black-knight\" xlink:href=\"#black-knight\" transform=\"translate(330, 150)\" /><use href=\"#black-bishop\" xlink:href=\"#black-bishop\" transform=\"translate(105, 105)\" /><use href=\"#black-pawn\" xlink:href=\"#black-pawn\" transform=\"translate(150, 105)\" /><use href=\"#black-pawn\" xlink:href=\"#black-pawn\" transform=\"translate(15, 60)\" /><use href=\"#black-pawn\" xlink:href=\"#black-pawn\" transform=\"translate(60, 60)\" /><use href=\"#black-queen\" xlink:href=\"#black-queen\" transform=\"translate(150, 60)\" /><use href=\"#black-king\" xlink:href=\"#black-king\" transform=\"translate(195, 60)\" /><use href=\"#black-pawn\" xlink:href=\"#black-pawn\" transform=\"translate(285, 60)\" /><use href=\"#black-pawn\" xlink:href=\"#black-pawn\" transform=\"translate(330, 60)\" /><use href=\"#black-rook\" xlink:href=\"#black-rook\" transform=\"translate(15, 15)\" /><use href=\"#black-knight\" xlink:href=\"#black-knight\" transform=\"translate(60, 15)\" /><use href=\"#black-bishop\" xlink:href=\"#black-bishop\" transform=\"translate(240, 15)\" /><use href=\"#black-rook\" xlink:href=\"#black-rook\" transform=\"translate(330, 15)\" /></svg>"
      ],
      "text/plain": [
       "Board('rn3b1r/pp1qk1pp/2bp4/PPpPpP1n/R1P3P1/5P1P/1B6/1N2KBNR w K - 1 21')"
      ]
     },
     "execution_count": 3,
     "metadata": {},
     "output_type": "execute_result"
    }
   ],
   "source": [
    "board = random_board()\n",
    "board"
   ]
  },
  {
   "cell_type": "code",
   "execution_count": 4,
   "metadata": {
    "id": "QtZy4cR8ZMhq"
   },
   "outputs": [
    {
     "name": "stdout",
     "output_type": "stream",
     "text": [
      "-538\n"
     ]
    }
   ],
   "source": [
    "print(stockfish(board, 15))"
   ]
  },
  {
   "cell_type": "markdown",
   "metadata": {
    "id": "6Fgr5NTWqgsA"
   },
   "source": [
    "The Idea is that the Deep Learning Network will predict this score based on the positions of the pieces on the board."
   ]
  },
  {
   "cell_type": "markdown",
   "metadata": {
    "id": "cMgBRL1Kdc0B"
   },
   "source": [
    "# Creating the dataset"
   ]
  },
  {
   "cell_type": "markdown",
   "metadata": {
    "id": "d4Sg-yu0sS4t"
   },
   "source": [
    "Now we need to convert the board representation to something meaningful.\n",
    "A 3d matrix of sizes **8 x 8 x 14** where 8x8 repersents the board and the 14 represents the 7 different pieces "
   ]
  },
  {
   "cell_type": "code",
   "execution_count": 5,
   "metadata": {
    "id": "Rdo64dA7dhBE"
   },
   "outputs": [],
   "source": [
    "squares_index = {\n",
    "  'a': 0,\n",
    "  'b': 1,\n",
    "  'c': 2,\n",
    "  'd': 3,\n",
    "  'e': 4,\n",
    "  'f': 5,\n",
    "  'g': 6,\n",
    "  'h': 7\n",
    "}\n",
    "\n",
    "\n",
    "# example: h3 -> 17\n",
    "def square_to_index(square):\n",
    "  letter = chess.square_name(square)\n",
    "  return 8 - int(letter[1]), squares_index[letter[0]]\n",
    "\n",
    "\n",
    "def split_dims(board):\n",
    "  # this is the 3d matrix\n",
    "  board3d = numpy.zeros((14, 8, 8), dtype=numpy.int8)\n",
    "\n",
    "  # here we add the pieces's view on the matrix\n",
    "  for piece in chess.PIECE_TYPES:\n",
    "    for square in board.pieces(piece, chess.WHITE):\n",
    "      idx = numpy.unravel_index(square, (8, 8))\n",
    "      board3d[piece - 1][7 - idx[0]][idx[1]] = 1\n",
    "    for square in board.pieces(piece, chess.BLACK):\n",
    "      idx = numpy.unravel_index(square, (8, 8))\n",
    "      board3d[piece + 5][7 - idx[0]][idx[1]] = 1\n",
    "\n",
    "  # add attacks and valid moves too\n",
    "  # so the network knows what is being attacked\n",
    "  aux = board.turn\n",
    "  board.turn = chess.WHITE\n",
    "  for move in board.legal_moves:\n",
    "      i, j = square_to_index(move.to_square)\n",
    "      board3d[12][i][j] = 1\n",
    "  board.turn = chess.BLACK\n",
    "  for move in board.legal_moves:\n",
    "      i, j = square_to_index(move.to_square)\n",
    "      board3d[13][i][j] = 1\n",
    "  board.turn = aux\n",
    "\n",
    "  return board3d"
   ]
  },
  {
   "cell_type": "code",
   "execution_count": 6,
   "metadata": {
    "id": "gHONl_M1hG9i"
   },
   "outputs": [
    {
     "data": {
      "text/plain": [
       "array([[[0, 0, 0, 0, 0, 0, 0, 0],\n",
       "        [0, 0, 0, 0, 0, 0, 0, 0],\n",
       "        [0, 0, 0, 0, 0, 0, 0, 0],\n",
       "        [1, 1, 0, 1, 0, 1, 0, 0],\n",
       "        [0, 0, 1, 0, 0, 0, 1, 0],\n",
       "        [0, 0, 0, 0, 0, 1, 0, 1],\n",
       "        [0, 0, 0, 0, 0, 0, 0, 0],\n",
       "        [0, 0, 0, 0, 0, 0, 0, 0]],\n",
       "\n",
       "       [[0, 0, 0, 0, 0, 0, 0, 0],\n",
       "        [0, 0, 0, 0, 0, 0, 0, 0],\n",
       "        [0, 0, 0, 0, 0, 0, 0, 0],\n",
       "        [0, 0, 0, 0, 0, 0, 0, 0],\n",
       "        [0, 0, 0, 0, 0, 0, 0, 0],\n",
       "        [0, 0, 0, 0, 0, 0, 0, 0],\n",
       "        [0, 0, 0, 0, 0, 0, 0, 0],\n",
       "        [0, 1, 0, 0, 0, 0, 1, 0]],\n",
       "\n",
       "       [[0, 0, 0, 0, 0, 0, 0, 0],\n",
       "        [0, 0, 0, 0, 0, 0, 0, 0],\n",
       "        [0, 0, 0, 0, 0, 0, 0, 0],\n",
       "        [0, 0, 0, 0, 0, 0, 0, 0],\n",
       "        [0, 0, 0, 0, 0, 0, 0, 0],\n",
       "        [0, 0, 0, 0, 0, 0, 0, 0],\n",
       "        [0, 1, 0, 0, 0, 0, 0, 0],\n",
       "        [0, 0, 0, 0, 0, 1, 0, 0]],\n",
       "\n",
       "       [[0, 0, 0, 0, 0, 0, 0, 0],\n",
       "        [0, 0, 0, 0, 0, 0, 0, 0],\n",
       "        [0, 0, 0, 0, 0, 0, 0, 0],\n",
       "        [0, 0, 0, 0, 0, 0, 0, 0],\n",
       "        [1, 0, 0, 0, 0, 0, 0, 0],\n",
       "        [0, 0, 0, 0, 0, 0, 0, 0],\n",
       "        [0, 0, 0, 0, 0, 0, 0, 0],\n",
       "        [0, 0, 0, 0, 0, 0, 0, 1]],\n",
       "\n",
       "       [[0, 0, 0, 0, 0, 0, 0, 0],\n",
       "        [0, 0, 0, 0, 0, 0, 0, 0],\n",
       "        [0, 0, 0, 0, 0, 0, 0, 0],\n",
       "        [0, 0, 0, 0, 0, 0, 0, 0],\n",
       "        [0, 0, 0, 0, 0, 0, 0, 0],\n",
       "        [0, 0, 0, 0, 0, 0, 0, 0],\n",
       "        [0, 0, 0, 0, 0, 0, 0, 0],\n",
       "        [0, 0, 0, 0, 0, 0, 0, 0]],\n",
       "\n",
       "       [[0, 0, 0, 0, 0, 0, 0, 0],\n",
       "        [0, 0, 0, 0, 0, 0, 0, 0],\n",
       "        [0, 0, 0, 0, 0, 0, 0, 0],\n",
       "        [0, 0, 0, 0, 0, 0, 0, 0],\n",
       "        [0, 0, 0, 0, 0, 0, 0, 0],\n",
       "        [0, 0, 0, 0, 0, 0, 0, 0],\n",
       "        [0, 0, 0, 0, 0, 0, 0, 0],\n",
       "        [0, 0, 0, 0, 1, 0, 0, 0]],\n",
       "\n",
       "       [[0, 0, 0, 0, 0, 0, 0, 0],\n",
       "        [1, 1, 0, 0, 0, 0, 1, 1],\n",
       "        [0, 0, 0, 1, 0, 0, 0, 0],\n",
       "        [0, 0, 1, 0, 1, 0, 0, 0],\n",
       "        [0, 0, 0, 0, 0, 0, 0, 0],\n",
       "        [0, 0, 0, 0, 0, 0, 0, 0],\n",
       "        [0, 0, 0, 0, 0, 0, 0, 0],\n",
       "        [0, 0, 0, 0, 0, 0, 0, 0]],\n",
       "\n",
       "       [[0, 1, 0, 0, 0, 0, 0, 0],\n",
       "        [0, 0, 0, 0, 0, 0, 0, 0],\n",
       "        [0, 0, 0, 0, 0, 0, 0, 0],\n",
       "        [0, 0, 0, 0, 0, 0, 0, 1],\n",
       "        [0, 0, 0, 0, 0, 0, 0, 0],\n",
       "        [0, 0, 0, 0, 0, 0, 0, 0],\n",
       "        [0, 0, 0, 0, 0, 0, 0, 0],\n",
       "        [0, 0, 0, 0, 0, 0, 0, 0]],\n",
       "\n",
       "       [[0, 0, 0, 0, 0, 1, 0, 0],\n",
       "        [0, 0, 0, 0, 0, 0, 0, 0],\n",
       "        [0, 0, 1, 0, 0, 0, 0, 0],\n",
       "        [0, 0, 0, 0, 0, 0, 0, 0],\n",
       "        [0, 0, 0, 0, 0, 0, 0, 0],\n",
       "        [0, 0, 0, 0, 0, 0, 0, 0],\n",
       "        [0, 0, 0, 0, 0, 0, 0, 0],\n",
       "        [0, 0, 0, 0, 0, 0, 0, 0]],\n",
       "\n",
       "       [[1, 0, 0, 0, 0, 0, 0, 1],\n",
       "        [0, 0, 0, 0, 0, 0, 0, 0],\n",
       "        [0, 0, 0, 0, 0, 0, 0, 0],\n",
       "        [0, 0, 0, 0, 0, 0, 0, 0],\n",
       "        [0, 0, 0, 0, 0, 0, 0, 0],\n",
       "        [0, 0, 0, 0, 0, 0, 0, 0],\n",
       "        [0, 0, 0, 0, 0, 0, 0, 0],\n",
       "        [0, 0, 0, 0, 0, 0, 0, 0]],\n",
       "\n",
       "       [[0, 0, 0, 0, 0, 0, 0, 0],\n",
       "        [0, 0, 0, 1, 0, 0, 0, 0],\n",
       "        [0, 0, 0, 0, 0, 0, 0, 0],\n",
       "        [0, 0, 0, 0, 0, 0, 0, 0],\n",
       "        [0, 0, 0, 0, 0, 0, 0, 0],\n",
       "        [0, 0, 0, 0, 0, 0, 0, 0],\n",
       "        [0, 0, 0, 0, 0, 0, 0, 0],\n",
       "        [0, 0, 0, 0, 0, 0, 0, 0]],\n",
       "\n",
       "       [[0, 0, 0, 0, 0, 0, 0, 0],\n",
       "        [0, 0, 0, 0, 1, 0, 0, 0],\n",
       "        [0, 0, 0, 0, 0, 0, 0, 0],\n",
       "        [0, 0, 0, 0, 0, 0, 0, 0],\n",
       "        [0, 0, 0, 0, 0, 0, 0, 0],\n",
       "        [0, 0, 0, 0, 0, 0, 0, 0],\n",
       "        [0, 0, 0, 0, 0, 0, 0, 0],\n",
       "        [0, 0, 0, 0, 0, 0, 0, 0]],\n",
       "\n",
       "       [[0, 0, 0, 0, 0, 0, 0, 0],\n",
       "        [0, 0, 0, 0, 0, 0, 0, 0],\n",
       "        [1, 1, 1, 0, 0, 1, 0, 0],\n",
       "        [0, 0, 0, 0, 1, 0, 1, 1],\n",
       "        [0, 1, 0, 1, 0, 1, 0, 1],\n",
       "        [1, 0, 1, 1, 0, 0, 0, 0],\n",
       "        [1, 0, 0, 1, 1, 1, 1, 1],\n",
       "        [1, 0, 1, 1, 0, 0, 0, 0]],\n",
       "\n",
       "       [[0, 0, 1, 1, 1, 0, 1, 0],\n",
       "        [0, 0, 1, 0, 0, 1, 0, 0],\n",
       "        [1, 1, 0, 0, 1, 1, 1, 1],\n",
       "        [0, 1, 0, 1, 0, 1, 1, 0],\n",
       "        [0, 0, 0, 0, 1, 1, 0, 0],\n",
       "        [0, 0, 0, 0, 0, 0, 1, 0],\n",
       "        [0, 0, 0, 0, 0, 0, 0, 0],\n",
       "        [0, 0, 0, 0, 0, 0, 0, 0]]], dtype=int8)"
      ]
     },
     "execution_count": 6,
     "metadata": {},
     "output_type": "execute_result"
    }
   ],
   "source": [
    "t = split_dims(board)\n",
    "t"
   ]
  },
  {
   "cell_type": "markdown",
   "metadata": {
    "id": "OwpzPcsXfuVw"
   },
   "source": [
    "Now, all we have to do is call **random_board()** to create random boards, **stockfish()** to get a score for how good each board is for white.\n",
    "\n",
    "Then we convert each board to a 3d matrix using **split_dims()**, now creating the dataset is easy!"
   ]
  },
  {
   "cell_type": "markdown",
   "metadata": {
    "id": "ukmA7z-dlB6m"
   },
   "source": [
    "# TensorFlow!"
   ]
  },
  {
   "cell_type": "code",
   "execution_count": 7,
   "metadata": {
    "id": "6S7QNZqwmBOP"
   },
   "outputs": [],
   "source": [
    "#import tensorflow.keras\n",
    "from tensorflow import keras\n",
    "import tensorflow.keras.models as models\n",
    "import tensorflow.keras.layers as layers\n",
    "import tensorflow.keras.utils as utils\n",
    "import tensorflow.keras.optimizers as optimizers\n",
    "\n",
    "\n",
    "def build_model(conv_size, conv_depth):\n",
    "  board3d = layers.Input(shape=(14, 8, 8))\n",
    "\n",
    "  # adding the convolutional layers\n",
    "  x = board3d\n",
    "  for _ in range(conv_depth):\n",
    "    x = layers.Conv2D(filters=conv_size, kernel_size=3, padding='same', activation='relu')(x)\n",
    "  x = layers.Flatten()(x)\n",
    "  x = layers.Dense(64, 'relu')(x)\n",
    "  x = layers.Dense(1, 'sigmoid')(x)\n",
    "\n",
    "  return models.Model(inputs=board3d, outputs=x)"
   ]
  },
  {
   "cell_type": "markdown",
   "metadata": {
    "id": "6S1RCn3xn4Bu"
   },
   "source": [
    "Skip connections (residual network) will likely improve the model for deeper connections. If you want to test the residual model, check the code below."
   ]
  },
  {
   "cell_type": "code",
   "execution_count": 8,
   "metadata": {
    "id": "tAFSOFc8pJf8"
   },
   "outputs": [],
   "source": [
    "def build_model_residual(conv_size, conv_depth):\n",
    "  board3d = layers.Input(shape=(14, 8, 8))\n",
    "\n",
    "  # adding the convolutional layers\n",
    "  x = layers.Conv2D(filters=conv_size, kernel_size=3, padding='same')(board3d)\n",
    "  for _ in range(conv_depth):\n",
    "    previous = x\n",
    "    x = layers.Conv2D(filters=conv_size, kernel_size=3, padding='same')(x)\n",
    "    x = layers.BatchNormalization()(x)\n",
    "    x = layers.Activation('relu')(x)\n",
    "    x = layers.Conv2D(filters=conv_size, kernel_size=3, padding='same')(x)\n",
    "    x = layers.BatchNormalization()(x)\n",
    "    x = layers.Add()([x, previous])\n",
    "    x = layers.Activation('relu')(x)\n",
    "  x = layers.Flatten()(x)\n",
    "  x = layers.Dense(200, 'relu')(x)\n",
    "  x = layers.Dropout(.5)(x)\n",
    "  x = layers.Dense(200, 'relu')(x)\n",
    "  x = layers.Dropout(.5)(x)\n",
    "  x = layers.Dense(200, 'relu')(x)\n",
    "  x = layers.Dropout(.5)(x)\n",
    "  x = layers.Dense(1, 'sigmoid')(x)\n",
    "\n",
    "  return models.Model(inputs=board3d, outputs=x)"
   ]
  },
  {
   "cell_type": "code",
   "execution_count": 9,
   "metadata": {
    "id": "3IjDiS3Bmo5m"
   },
   "outputs": [],
   "source": [
    "model = build_model(32, 4)"
   ]
  },
  {
   "cell_type": "markdown",
   "metadata": {
    "id": "ck79-w2ZxwVB"
   },
   "source": [
    "# It's training time!"
   ]
  },
  {
   "cell_type": "code",
   "execution_count": 10,
   "metadata": {
    "cellView": "both",
    "id": "CkOXxmoVyHdc"
   },
   "outputs": [
    {
     "name": "stdout",
     "output_type": "stream",
     "text": [
      "(1200000, 14, 8, 8)\n",
      "(1200000,)\n"
     ]
    }
   ],
   "source": [
    "import tensorflow.keras.callbacks as callbacks\n",
    "from sklearn.model_selection import train_test_split\n",
    "\n",
    "def get_dataset():\n",
    "\tcontainer = numpy.load('dataset.npz')\n",
    "\tb, v = container['b'], container['v']\n",
    "\tv = numpy.asarray(v / abs(v).max() / 2 + 0.5, dtype=numpy.float32) # normalization (0 - 1) #should we be normalizing. \n",
    "\treturn b, v\n",
    "\n",
    "\n",
    "boardstates, evaluation  = get_dataset()\n",
    "x_train, x_test, y_train, y_test = train_test_split(boardstates, evaluation, test_size = 0.2, random_state = random.randint(1, 9999))\n",
    "x_train.transpose()\n",
    "print(x_train.shape)\n",
    "print(y_train.shape)"
   ]
  },
  {
   "cell_type": "code",
   "execution_count": 11,
   "metadata": {},
   "outputs": [
    {
     "data": {
      "text/plain": [
       "array([0.41099057, 0.5821278 , 0.5436508 , ..., 0.4865883 , 0.570876  ,\n",
       "       0.4213884 ], dtype=float32)"
      ]
     },
     "execution_count": 11,
     "metadata": {},
     "output_type": "execute_result"
    }
   ],
   "source": [
    "y_train"
   ]
  },
  {
   "cell_type": "code",
   "execution_count": 12,
   "metadata": {},
   "outputs": [
    {
     "data": {
      "text/plain": [
       "10"
      ]
     },
     "execution_count": 12,
     "metadata": {},
     "output_type": "execute_result"
    }
   ],
   "source": [
    "x = numpy.empty(10)\n",
    "y = numpy.empty(10)\n",
    "numpy.savez('test.npz', x, y)\n",
    "container = numpy.load('test.npz')\n",
    "container.files\n",
    "a = container['arr_0']\n",
    "a.size"
   ]
  },
  {
   "cell_type": "code",
   "execution_count": 13,
   "metadata": {},
   "outputs": [],
   "source": [
    "def createData(NumberOfTrainings):\n",
    "    outfile = 'chessdata1.npz'\n",
    "    xdata = numpy.empty([NumberOfTrainings, 14,8,8])\n",
    "    ylables = numpy.empty(NumberOfTrainings)\n",
    "    for i in range(NumberOfTrainings):\n",
    "        if(i%10000 == 0):\n",
    "            numpy.savez(outfile, xdata, ylables)\n",
    "            print(i)\n",
    "        board = random_board()\n",
    "        y = (stockfish(board, 15))  \n",
    "        x = split_dims(board)\n",
    "        ylables[i] = y\n",
    "        xdata[i] = x\n",
    "    numpy.savez(outfile, xdata, ylables)\n",
    "    return xdata, ylables\n",
    "#x_temp, y_temp = createData(250000)\n",
    "#print(x_temp.shape)\n",
    "#print(y_temp.shape)\n",
    "#container = numpy.load('chessdata1.npz')\n",
    "#x_test2 = container['arr_0']\n",
    "#y_test2 = container['arr_1']"
   ]
  },
  {
   "cell_type": "code",
   "execution_count": 14,
   "metadata": {},
   "outputs": [],
   "source": [
    "#print(x_test2.shape)\n",
    "#print(y_test2.shape)\n",
    "#print(y_test2[800]) #the ytest2 will be 0 if there is no data in it "
   ]
  },
  {
   "cell_type": "code",
   "execution_count": 15,
   "metadata": {
    "id": "RyOYq9mv2ppC"
   },
   "outputs": [],
   "source": [
    "from tensorflow.keras.callbacks import ModelCheckpoint\n",
    "from tensorflow.keras.callbacks import ReduceLROnPlateau\n",
    "from tensorflow.keras.callbacks import EarlyStopping\n",
    "def noOptModelComp(model, fit):\n",
    "    model.compile(optimizer=optimizers.Adam(5e-4), loss='mean_squared_error',  metrics=['mae', 'mse'])\n",
    "    model.summary()\n",
    "    checkpoint_filepath = '\\\\tmp\\\\checkpoint\\\\'\n",
    "    model_checkpointing_callback = ModelCheckpoint(\n",
    "        filepath = checkpoint_filepath,\n",
    "        save_best_only= True,\n",
    "    )\n",
    "    if fit:\n",
    "        fitModel(model)\n",
    "\n",
    "def fitModel(model):\n",
    "    #a = callbacks.ReduceLROnPlateau(monitor='loss', patience=10)\n",
    "    #b = callbacks.EarlyStopping(monitor='loss', patience=15, min_delta=1e-4)\n",
    "    history = clustered_model.fit(x_train, y_train,\n",
    "              batch_size=2048,\n",
    "              epochs=1000,\n",
    "              verbose=1,\n",
    "              validation_split=0.1,\n",
    "              callbacks=[tf.keras.callbacks.ReduceLROnPlateau(monitor='loss', patience=10) , tf.keras.callbacks.EarlyStopping(monitor='loss', patience=15, min_delta=1e-4)])\n",
    "    return history"
   ]
  },
  {
   "cell_type": "code",
   "execution_count": 16,
   "metadata": {},
   "outputs": [
    {
     "name": "stdout",
     "output_type": "stream",
     "text": [
      "Model: \"model\"\n",
      "_________________________________________________________________\n",
      " Layer (type)                Output Shape              Param #   \n",
      "=================================================================\n",
      " input_1 (InputLayer)        [(None, 14, 8, 8)]        0         \n",
      "                                                                 \n",
      " conv2d (Conv2D)             (None, 14, 8, 32)         2336      \n",
      "                                                                 \n",
      " conv2d_1 (Conv2D)           (None, 14, 8, 32)         9248      \n",
      "                                                                 \n",
      " conv2d_2 (Conv2D)           (None, 14, 8, 32)         9248      \n",
      "                                                                 \n",
      " conv2d_3 (Conv2D)           (None, 14, 8, 32)         9248      \n",
      "                                                                 \n",
      " flatten (Flatten)           (None, 3584)              0         \n",
      "                                                                 \n",
      " dense (Dense)               (None, 64)                229440    \n",
      "                                                                 \n",
      " dense_1 (Dense)             (None, 1)                 65        \n",
      "                                                                 \n",
      "=================================================================\n",
      "Total params: 259,585\n",
      "Trainable params: 259,585\n",
      "Non-trainable params: 0\n",
      "_________________________________________________________________\n",
      "9375/9375 - 17s - loss: 2.1008e-04 - mae: 0.0097 - mse: 2.1008e-04 - 17s/epoch - 2ms/step\n",
      "Testing set Mean Abs Error: 0.00965 \n"
     ]
    }
   ],
   "source": [
    "origModelFile = 'model.h5'\n",
    "model = tf.keras.models.load_model(origModelFile)\n",
    "noOptModelComp(model, False) #change to true to re train \n",
    "loss, mae, mse = model.evaluate(x_test, y_test, verbose=2)\n",
    "print(\"Testing set Mean Abs Error: {:5.5f} \".format(mae))\n",
    "maes.append(mae)"
   ]
  },
  {
   "cell_type": "markdown",
   "metadata": {
    "id": "UndQQeUurAKp"
   },
   "source": [
    "# Playing with the AI"
   ]
  },
  {
   "cell_type": "code",
   "execution_count": 17,
   "metadata": {
    "id": "e4CfjcGorHzg"
   },
   "outputs": [],
   "source": [
    "# used for the minimax algorithm\n",
    "def minimax_eval(board,model,Tflite):\n",
    "  board3d = split_dims(board)\n",
    "  board3d = numpy.expand_dims(board3d, 0)\n",
    "  if not Tflite:\n",
    "      return model(board3d)[0][0]\n",
    "  else:\n",
    "      board2 = board3d.reshape((1,14,8,8))\n",
    "      board2 = numpy.float32(board2)\n",
    "      interpreter.set_tensor(input_index, board2)\n",
    "      interpreter.invoke()\n",
    "      prediction = interpreter.get_tensor(output_index)\n",
    "      fpred = prediction[0][0]\n",
    "      return fpred\n",
    "\n",
    "def minimax(board, depth, alpha, beta, maximizing_player,model,Tflite):\n",
    "  if depth == 0 or board.is_game_over():\n",
    "    return minimax_eval(board,model, Tflite)\n",
    "  \n",
    "  if maximizing_player:\n",
    "    max_eval = -numpy.inf\n",
    "    for move in board.legal_moves:\n",
    "      board.push(move)\n",
    "      eval = minimax(board, depth - 1, alpha, beta, False, model, Tflite)\n",
    "      board.pop()\n",
    "      max_eval = max(max_eval, eval)\n",
    "      alpha = max(alpha, eval)\n",
    "      if beta <= alpha:\n",
    "        break\n",
    "    return max_eval\n",
    "  else:\n",
    "    min_eval = numpy.inf\n",
    "    for move in board.legal_moves:\n",
    "      board.push(move)\n",
    "      eval = minimax(board, depth - 1, alpha, beta, True, model, Tflite)\n",
    "      board.pop()\n",
    "      min_eval = min(min_eval, eval)\n",
    "      beta = min(beta, eval)\n",
    "      if beta <= alpha:\n",
    "        break\n",
    "    return min_eval\n",
    "\n",
    "\n",
    "# this is the actual function that gets the move from the neural network\n",
    "def get_ai_move(board, depth, Tflite):\n",
    "  max_move = None\n",
    "  max_eval = -numpy.inf\n",
    "\n",
    "  for move in board.legal_moves:\n",
    "    board.push(move)\n",
    "    eval = minimax(board, depth - 1, -numpy.inf, numpy.inf, False,model, Tflite)\n",
    "    board.pop()\n",
    "    if eval > max_eval:\n",
    "      max_eval = eval\n",
    "      max_move = move\n",
    "  \n",
    "  return max_move\n",
    "def playStockfish(model, depth, Tflite, printBoard):\n",
    "    board = chess.Board()\n",
    "\n",
    "    with chess.engine.SimpleEngine.popen_uci(stockFish13path) as engine:\n",
    "        moves = 0\n",
    "        while True:\n",
    "            move = get_ai_move(board, depth, Tflite)\n",
    "            board.push(move)\n",
    "            moves +=1\n",
    "            if printBoard:\n",
    "                print(f'\\n{board}')\n",
    "            if board.is_game_over():\n",
    "                if printBoard:\n",
    "                    print('white won game_over with ' + str(moves) + ' moves')\n",
    "                return moves , True\n",
    "            move = engine.analyse(board, chess.engine.Limit(time=1), info=chess.engine.INFO_PV)['pv'][0]\n",
    "            board.push(move)\n",
    "            moves +=1\n",
    "            if printBoard:\n",
    "                print(f'\\n{board}')\n",
    "            if board.is_game_over():\n",
    "                if printBoard:\n",
    "                    print('black won game_over with '+ str(moves) +' moves')\n",
    "                return moves , False"
   ]
  },
  {
   "cell_type": "code",
   "execution_count": 18,
   "metadata": {},
   "outputs": [],
   "source": [
    "# Move by move testing code AI(white) vs Stockfish(black)\n",
    "def Move_by_move():\n",
    "    board = chess.Board()\n",
    "    from IPython.display import clear_output\n",
    "\n",
    "    with chess.engine.SimpleEngine.popen_uci(stockFish13path) as engine:\n",
    "        while True:\n",
    "            clear_output(wait=True)\n",
    "            move = get_ai_move(board, 1)\n",
    "            board.push(move)\n",
    "            print(move)\n",
    "            print(f'\\n{board}')\n",
    "            if board.is_game_over():\n",
    "                print('game_over')\n",
    "                break\n",
    "            input_var = input()\n",
    "            move = chess.Move.from_uci(input_var)\n",
    "            board.push(move)\n",
    "            print(move)\n",
    "            print(f'\\n{board}')\n",
    "            if board.is_game_over():\n",
    "                print('game_over')\n",
    "                break"
   ]
  },
  {
   "cell_type": "code",
   "execution_count": 19,
   "metadata": {},
   "outputs": [
    {
     "name": "stdout",
     "output_type": "stream",
     "text": [
      "\n",
      "r n b q k b n r\n",
      "p p p p p p p p\n",
      ". . . . . . . .\n",
      ". . . . . . . .\n",
      ". . . . . . . .\n",
      ". . . . P . . .\n",
      "P P P P . P P P\n",
      "R N B Q K B N R\n",
      "\n",
      "r n b q k b n r\n",
      "p p p p . p p p\n",
      ". . . . p . . .\n",
      ". . . . . . . .\n",
      ". . . . . . . .\n",
      ". . . . P . . .\n",
      "P P P P . P P P\n",
      "R N B Q K B N R\n",
      "\n",
      "r n b q k b n r\n",
      "p p p p . p p p\n",
      ". . . . p . . .\n",
      ". . . . . . . .\n",
      ". . . . . . . .\n",
      ". . . . P N . .\n",
      "P P P P . P P P\n",
      "R N B Q K B . R\n",
      "\n",
      "r n b q k b n r\n",
      "p p p . . p p p\n",
      ". . . . p . . .\n",
      ". . . p . . . .\n",
      ". . . . . . . .\n",
      ". . . . P N . .\n",
      "P P P P . P P P\n",
      "R N B Q K B . R\n",
      "\n",
      "r n b q k b n r\n",
      "p p p . . p p p\n",
      ". . . . p . . .\n",
      ". . . p . . . .\n",
      ". . . . . . . .\n",
      ". . N . P N . .\n",
      "P P P P . P P P\n",
      "R . B Q K B . R\n",
      "\n",
      "r n b q k b . r\n",
      "p p p . . p p p\n",
      ". . . . p n . .\n",
      ". . . p . . . .\n",
      ". . . . . . . .\n",
      ". . N . P N . .\n",
      "P P P P . P P P\n",
      "R . B Q K B . R\n",
      "\n",
      "r n b q k b . r\n",
      "p p p . . p p p\n",
      ". . . . p n . .\n",
      ". . . p . . . .\n",
      ". . . P . . . .\n",
      ". . N . P N . .\n",
      "P P P . . P P P\n",
      "R . B Q K B . R\n",
      "\n",
      "r n b q k b . r\n",
      "p p . . . p p p\n",
      ". . . . p n . .\n",
      ". . p p . . . .\n",
      ". . . P . . . .\n",
      ". . N . P N . .\n",
      "P P P . . P P P\n",
      "R . B Q K B . R\n",
      "\n",
      "r n b q k b . r\n",
      "p p . . . p p p\n",
      ". . . . p n . .\n",
      ". B p p . . . .\n",
      ". . . P . . . .\n",
      ". . N . P N . .\n",
      "P P P . . P P P\n",
      "R . B Q K . . R\n",
      "\n",
      "r . b q k b . r\n",
      "p p . n . p p p\n",
      ". . . . p n . .\n",
      ". B p p . . . .\n",
      ". . . P . . . .\n",
      ". . N . P N . .\n",
      "P P P . . P P P\n",
      "R . B Q K . . R\n",
      "\n",
      "r . b q k b . r\n",
      "p p . B . p p p\n",
      ". . . . p n . .\n",
      ". . p p . . . .\n",
      ". . . P . . . .\n",
      ". . N . P N . .\n",
      "P P P . . P P P\n",
      "R . B Q K . . R\n",
      "\n",
      "r . . q k b . r\n",
      "p p . b . p p p\n",
      ". . . . p n . .\n",
      ". . p p . . . .\n",
      ". . . P . . . .\n",
      ". . N . P N . .\n",
      "P P P . . P P P\n",
      "R . B Q K . . R\n",
      "\n",
      "r . . q k b . r\n",
      "p p . b . p p p\n",
      ". . . . p n . .\n",
      ". . p p . . . .\n",
      ". . . P . . . .\n",
      ". . N . P N . .\n",
      "P P P . . P P P\n",
      "R . B Q . R K .\n",
      "\n",
      "r . . . k b . r\n",
      "p p q b . p p p\n",
      ". . . . p n . .\n",
      ". . p p . . . .\n",
      ". . . P . . . .\n",
      ". . N . P N . .\n",
      "P P P . . P P P\n",
      "R . B Q . R K .\n",
      "\n",
      "r . . . k b . r\n",
      "p p q b . p p p\n",
      ". . . . p n . .\n",
      ". . p p . . . .\n",
      ". . . P . . . .\n",
      ". . N . P N . .\n",
      "P P P . Q P P P\n",
      "R . B . . R K .\n",
      "\n",
      ". . r . k b . r\n",
      "p p q b . p p p\n",
      ". . . . p n . .\n",
      ". . p p . . . .\n",
      ". . . P . . . .\n",
      ". . N . P N . .\n",
      "P P P . Q P P P\n",
      "R . B . . R K .\n",
      "\n",
      ". . r . k b . r\n",
      "p p q b . p p p\n",
      ". . . . p n . .\n",
      ". . P p . . . .\n",
      ". . . . . . . .\n",
      ". . N . P N . .\n",
      "P P P . Q P P P\n",
      "R . B . . R K .\n",
      "\n",
      ". . r . k . . r\n",
      "p p q b . p p p\n",
      ". . . . p n . .\n",
      ". . b p . . . .\n",
      ". . . . . . . .\n",
      ". . N . P N . .\n",
      "P P P . Q P P P\n",
      "R . B . . R K .\n",
      "\n",
      ". . r . k . . r\n",
      "p p q b . p p p\n",
      ". . . . p n . .\n",
      ". . b p . . . .\n",
      ". . . . . . . .\n",
      ". . N . P N P .\n",
      "P P P . Q P . P\n",
      "R . B . . R K .\n",
      "\n",
      ". . r . k . . r\n",
      "p p q b . p p p\n",
      ". . . . . n . .\n",
      ". . b p p . . .\n",
      ". . . . . . . .\n",
      ". . N . P N P .\n",
      "P P P . Q P . P\n",
      "R . B . . R K .\n",
      "\n",
      ". . r . k . . r\n",
      "p p q b . p p p\n",
      ". . . . . n . .\n",
      ". . b p p . . .\n",
      "P . . . . . . .\n",
      ". . N . P N P .\n",
      ". P P . Q P . P\n",
      "R . B . . R K .\n",
      "\n",
      ". . r . . r k .\n",
      "p p q b . p p p\n",
      ". . . . . n . .\n",
      ". . b p p . . .\n",
      "P . . . . . . .\n",
      ". . N . P N P .\n",
      ". P P . Q P . P\n",
      "R . B . . R K .\n",
      "\n",
      ". . r . . r k .\n",
      "p p q b . p p p\n",
      ". . . . . n . .\n",
      ". . b p p . . .\n",
      "P . . . . . . .\n",
      ". P N . P N P .\n",
      ". . P . Q P . P\n",
      "R . B . . R K .\n",
      "\n",
      ". . r . . r k .\n",
      "p p q . . p p p\n",
      ". . . . . n . .\n",
      ". . b p p . . .\n",
      "P . . . . . b .\n",
      ". P N . P N P .\n",
      ". . P . Q P . P\n",
      "R . B . . R K .\n",
      "\n",
      ". . r . . r k .\n",
      "p p q . . p p p\n",
      ". . . . . n . .\n",
      ". N b p p . . .\n",
      "P . . . . . b .\n",
      ". P . . P N P .\n",
      ". . P . Q P . P\n",
      "R . B . . R K .\n",
      "\n",
      ". . r . . r k .\n",
      "p p . . q p p p\n",
      ". . . . . n . .\n",
      ". N b p p . . .\n",
      "P . . . . . b .\n",
      ". P . . P N P .\n",
      ". . P . Q P . P\n",
      "R . B . . R K .\n",
      "\n",
      ". . r . . r k .\n",
      "p p . . q p p p\n",
      ". . . . . n . .\n",
      ". . b p p . . .\n",
      "P . . . . . b .\n",
      ". P N . P N P .\n",
      ". . P . Q P . P\n",
      "R . B . . R K .\n",
      "\n",
      ". . r . . r k .\n",
      "p p . . q p p p\n",
      ". . . . . n . .\n",
      ". . b p . . . .\n",
      "P . . . p . b .\n",
      ". P N . P N P .\n",
      ". . P . Q P . P\n",
      "R . B . . R K .\n",
      "\n",
      ". . r . . r k .\n",
      "p p . . q p p p\n",
      ". . . . . n . .\n",
      ". . b N . . . .\n",
      "P . . . p . b .\n",
      ". P . . P N P .\n",
      ". . P . Q P . P\n",
      "R . B . . R K .\n",
      "\n",
      ". . r . . r k .\n",
      "p p . . q p p p\n",
      ". . . . . . . .\n",
      ". . b n . . . .\n",
      "P . . . p . b .\n",
      ". P . . P N P .\n",
      ". . P . Q P . P\n",
      "R . B . . R K .\n",
      "\n",
      ". . r . . r k .\n",
      "p p . . q p p p\n",
      ". . . . . . . .\n",
      ". . b n . . . .\n",
      "P P . . p . b .\n",
      ". . . . P N P .\n",
      ". . P . Q P . P\n",
      "R . B . . R K .\n",
      "\n",
      ". . r . . r k .\n",
      "p p . . q p p p\n",
      ". . . . . . . .\n",
      ". . b n . . . .\n",
      "P P . . p . . .\n",
      ". . . . P b P .\n",
      ". . P . Q P . P\n",
      "R . B . . R K .\n",
      "\n",
      ". . r . . r k .\n",
      "p p . . q p p p\n",
      ". . . . . . . .\n",
      ". . b n . . . .\n",
      "P P Q . p . . .\n",
      ". . . . P b P .\n",
      ". . P . . P . P\n",
      "R . B . . R K .\n",
      "\n",
      ". . r . . r k .\n",
      "p p . . . p p p\n",
      ". . . . q . . .\n",
      ". . b n . . . .\n",
      "P P Q . p . . .\n",
      ". . . . P b P .\n",
      ". . P . . P . P\n",
      "R . B . . R K .\n",
      "\n",
      ". . r . . r k .\n",
      "p p . . . p p p\n",
      ". . . . q . . .\n",
      ". . P n . . . .\n",
      "P . Q . p . . .\n",
      ". . . . P b P .\n",
      ". . P . . P . P\n",
      "R . B . . R K .\n",
      "\n",
      ". . r . . r k .\n",
      "p p . . . p p p\n",
      ". . . . . . . .\n",
      ". . P n . . . .\n",
      "P . Q . p . . .\n",
      ". . . . P b P q\n",
      ". . P . . P . P\n",
      "R . B . . R K .\n",
      "\n",
      ". . r . . r k .\n",
      "p p . . . p p p\n",
      ". . . . . . . .\n",
      ". . P Q . . . .\n",
      "P . . . p . . .\n",
      ". . . . P b P q\n",
      ". . P . . P . P\n",
      "R . B . . R K .\n",
      "\n",
      ". . r . . r k .\n",
      "p p . . . p p p\n",
      ". . . . . . . .\n",
      ". . P Q . . . .\n",
      "P . . . p . . .\n",
      ". . . . P b P .\n",
      ". . P . . P q P\n",
      "R . B . . R K .\n",
      "black won game_over with 38 moves\n",
      "Adverage moves per second: 0.18\n"
     ]
    }
   ],
   "source": [
    "import time\n",
    "model = tf.keras.models.load_model('model.h5')\n",
    "start_time = time.time()\n",
    "numMoves, winner = playStockfish(model, 2, False, True)\n",
    "timeTaken = (time.time() - start_time)\n",
    "print(\"Adverage moves per second: %.2f\" \n",
    "      % ((numMoves / 2)/timeTaken))"
   ]
  },
  {
   "cell_type": "markdown",
   "metadata": {},
   "source": [
    "# Reducing model size"
   ]
  },
  {
   "cell_type": "code",
   "execution_count": 20,
   "metadata": {},
   "outputs": [
    {
     "name": "stdout",
     "output_type": "stream",
     "text": [
      "Model: \"model\"\n",
      "_________________________________________________________________\n",
      " Layer (type)                Output Shape              Param #   \n",
      "=================================================================\n",
      " input_1 (InputLayer)        [(None, 14, 8, 8)]        0         \n",
      "                                                                 \n",
      " conv2d (Conv2D)             (None, 14, 8, 32)         2336      \n",
      "                                                                 \n",
      " conv2d_1 (Conv2D)           (None, 14, 8, 32)         9248      \n",
      "                                                                 \n",
      " conv2d_2 (Conv2D)           (None, 14, 8, 32)         9248      \n",
      "                                                                 \n",
      " conv2d_3 (Conv2D)           (None, 14, 8, 32)         9248      \n",
      "                                                                 \n",
      " flatten (Flatten)           (None, 3584)              0         \n",
      "                                                                 \n",
      " dense (Dense)               (None, 64)                229440    \n",
      "                                                                 \n",
      " dense_1 (Dense)             (None, 1)                 65        \n",
      "                                                                 \n",
      "=================================================================\n",
      "Total params: 259,585\n",
      "Trainable params: 259,585\n",
      "Non-trainable params: 0\n",
      "_________________________________________________________________\n",
      "Size of the original model before comression : 3.03 MB\n",
      "Size of the original model after comression : 2.63 MB\n"
     ]
    }
   ],
   "source": [
    "import tempfile\n",
    "import zipfile\n",
    "import os\n",
    "#origModelFile = 'pruned_model.h5'\n",
    "origModelFile = 'model.h5'\n",
    "model = tf.keras.models.load_model(origModelFile)\n",
    "model.summary()\n",
    "\n",
    "_, zip3 = tempfile.mkstemp('.zip')\n",
    "with zipfile.ZipFile(zip3, 'w', compression=zipfile.ZIP_DEFLATED) as f:\n",
    "    f.write(origModelFile)\n",
    "print(\"Size of the original model before comression : %.2f MB\" %(os.path.getsize(origModelFile) / float(2**20)))\n",
    "\n",
    "print(\"Size of the original model after comression : %.2f MB\" %(os.path.getsize(zip3) / float(2**20)))\n",
    "model_sizes.append(os.path.getsize(origModelFile) / float(2**20))"
   ]
  },
  {
   "cell_type": "markdown",
   "metadata": {},
   "source": [
    "Weight clustoring "
   ]
  },
  {
   "cell_type": "code",
   "execution_count": 21,
   "metadata": {},
   "outputs": [],
   "source": [
    "#weight clustoring \n",
    "def save_model_file(model):\n",
    "  _, keras_file = tempfile.mkstemp('.h5') \n",
    "  model.save(keras_file, include_optimizer=False)\n",
    "  return keras_file\n",
    "\n",
    "def get_gzipped_model_size(model):\n",
    "  # It returns the size of the gzipped model in bytes.\n",
    "\n",
    "  keras_file = save_model_file(model)\n",
    "\n",
    "  _, zipped_file = tempfile.mkstemp('.zip')\n",
    "  with zipfile.ZipFile(zipped_file, 'w', compression=zipfile.ZIP_DEFLATED) as f:\n",
    "    f.write(keras_file)\n",
    "  return os.path.getsize(zipped_file)\n",
    "\n",
    "def save_model_weights(model):\n",
    "  _, pretrained_weights = tempfile.mkstemp('.h5')\n",
    "  model.save_weights(pretrained_weights)\n",
    "  return pretrained_weights\n",
    "\n",
    "def setup_pretrained_weights():\n",
    "  model = tf.keras.models.load_model(origModelFile)\n",
    "  pretrained_weights = save_model_weights(model)\n",
    "  return pretrained_weights\n",
    "\n",
    "pretrained_weights = setup_pretrained_weights()"
   ]
  },
  {
   "cell_type": "code",
   "execution_count": 22,
   "metadata": {},
   "outputs": [
    {
     "name": "stdout",
     "output_type": "stream",
     "text": [
      "Model: \"model\"\n",
      "_________________________________________________________________\n",
      " Layer (type)                Output Shape              Param #   \n",
      "=================================================================\n",
      " input_1 (InputLayer)        [(None, 14, 8, 8)]        0         \n",
      "                                                                 \n",
      " cluster_conv2d (ClusterWeig  (None, 14, 8, 32)        4650      \n",
      " hts)                                                            \n",
      "                                                                 \n",
      " cluster_conv2d_1 (ClusterWe  (None, 14, 8, 32)        18474     \n",
      " ights)                                                          \n",
      "                                                                 \n",
      " cluster_conv2d_2 (ClusterWe  (None, 14, 8, 32)        18474     \n",
      " ights)                                                          \n",
      "                                                                 \n",
      " cluster_conv2d_3 (ClusterWe  (None, 14, 8, 32)        18474     \n",
      " ights)                                                          \n",
      "                                                                 \n",
      " cluster_flatten (ClusterWei  (None, 3584)             0         \n",
      " ghts)                                                           \n",
      "                                                                 \n",
      " cluster_dense (ClusterWeigh  (None, 64)               458826    \n",
      " ts)                                                             \n",
      "                                                                 \n",
      " cluster_dense_1 (ClusterWei  (None, 1)                139       \n",
      " ghts)                                                           \n",
      "                                                                 \n",
      "=================================================================\n",
      "Total params: 519,037\n",
      "Trainable params: 259,645\n",
      "Non-trainable params: 259,392\n",
      "_________________________________________________________________\n"
     ]
    }
   ],
   "source": [
    "import tensorflow_model_optimization as tfmot\n",
    "\n",
    "cluster_weights = tfmot.clustering.keras.cluster_weights\n",
    "CentroidInitialization = tfmot.clustering.keras.CentroidInitialization\n",
    "\n",
    "clustering_params = {\n",
    "  'number_of_clusters': 10,\n",
    "  'cluster_centroids_init': CentroidInitialization.KMEANS_PLUS_PLUS\n",
    "}\n",
    "\n",
    "model = tf.keras.models.load_model(origModelFile)\n",
    "model.load_weights(pretrained_weights)\n",
    "\n",
    "clustered_model = cluster_weights(model, **clustering_params)\n",
    "\n",
    "clustered_model.summary()"
   ]
  },
  {
   "cell_type": "code",
   "execution_count": 23,
   "metadata": {},
   "outputs": [
    {
     "name": "stdout",
     "output_type": "stream",
     "text": [
      "Epoch 1/1000\n",
      "528/528 [==============================] - 9s 14ms/step - loss: 3.2674e-04 - mae: 0.0118 - mse: 3.2674e-04 - val_loss: 3.4100e-04 - val_mae: 0.0121 - val_mse: 3.4100e-04 - lr: 5.0000e-04\n",
      "Epoch 2/1000\n",
      "528/528 [==============================] - 7s 13ms/step - loss: 3.1514e-04 - mae: 0.0117 - mse: 3.1514e-04 - val_loss: 3.2852e-04 - val_mae: 0.0119 - val_mse: 3.2852e-04 - lr: 5.0000e-04\n",
      "Epoch 3/1000\n",
      "528/528 [==============================] - 7s 13ms/step - loss: 3.1386e-04 - mae: 0.0117 - mse: 3.1386e-04 - val_loss: 3.1582e-04 - val_mae: 0.0115 - val_mse: 3.1582e-04 - lr: 5.0000e-04\n",
      "Epoch 4/1000\n",
      "528/528 [==============================] - 7s 13ms/step - loss: 3.0457e-04 - mae: 0.0115 - mse: 3.0457e-04 - val_loss: 3.2759e-04 - val_mae: 0.0118 - val_mse: 3.2759e-04 - lr: 5.0000e-04\n",
      "Epoch 5/1000\n",
      "528/528 [==============================] - 7s 14ms/step - loss: 3.0152e-04 - mae: 0.0115 - mse: 3.0152e-04 - val_loss: 3.3566e-04 - val_mae: 0.0119 - val_mse: 3.3566e-04 - lr: 5.0000e-04\n",
      "Epoch 6/1000\n",
      "528/528 [==============================] - 8s 16ms/step - loss: 2.9955e-04 - mae: 0.0114 - mse: 2.9955e-04 - val_loss: 3.5365e-04 - val_mae: 0.0121 - val_mse: 3.5365e-04 - lr: 5.0000e-04\n",
      "Epoch 7/1000\n",
      "528/528 [==============================] - 7s 14ms/step - loss: 2.9905e-04 - mae: 0.0114 - mse: 2.9905e-04 - val_loss: 3.3432e-04 - val_mae: 0.0116 - val_mse: 3.3432e-04 - lr: 5.0000e-04\n",
      "Epoch 8/1000\n",
      "528/528 [==============================] - 7s 13ms/step - loss: 2.9733e-04 - mae: 0.0114 - mse: 2.9733e-04 - val_loss: 3.3831e-04 - val_mae: 0.0116 - val_mse: 3.3831e-04 - lr: 5.0000e-04\n",
      "Epoch 9/1000\n",
      "528/528 [==============================] - 8s 15ms/step - loss: 2.9689e-04 - mae: 0.0114 - mse: 2.9689e-04 - val_loss: 3.5109e-04 - val_mae: 0.0119 - val_mse: 3.5109e-04 - lr: 5.0000e-04\n",
      "Epoch 10/1000\n",
      "528/528 [==============================] - 8s 15ms/step - loss: 2.8941e-04 - mae: 0.0112 - mse: 2.8941e-04 - val_loss: 3.4200e-04 - val_mae: 0.0116 - val_mse: 3.4200e-04 - lr: 5.0000e-04\n",
      "Epoch 11/1000\n",
      "528/528 [==============================] - 8s 15ms/step - loss: 2.8826e-04 - mae: 0.0113 - mse: 2.8826e-04 - val_loss: 3.5453e-04 - val_mae: 0.0119 - val_mse: 3.5453e-04 - lr: 5.0000e-04\n",
      "Epoch 12/1000\n",
      "528/528 [==============================] - 8s 15ms/step - loss: 2.5494e-04 - mae: 0.0107 - mse: 2.5494e-04 - val_loss: 3.1596e-04 - val_mae: 0.0110 - val_mse: 3.1596e-04 - lr: 5.0000e-05\n",
      "Epoch 13/1000\n",
      "528/528 [==============================] - 8s 14ms/step - loss: 2.4666e-04 - mae: 0.0105 - mse: 2.4666e-04 - val_loss: 3.1761e-04 - val_mae: 0.0110 - val_mse: 3.1761e-04 - lr: 5.0000e-05\n",
      "Epoch 14/1000\n",
      "528/528 [==============================] - 8s 15ms/step - loss: 2.4325e-04 - mae: 0.0105 - mse: 2.4325e-04 - val_loss: 3.0927e-04 - val_mae: 0.0109 - val_mse: 3.0927e-04 - lr: 5.0000e-05\n",
      "Epoch 15/1000\n",
      "528/528 [==============================] - 8s 15ms/step - loss: 2.4060e-04 - mae: 0.0104 - mse: 2.4060e-04 - val_loss: 3.1012e-04 - val_mae: 0.0109 - val_mse: 3.1012e-04 - lr: 5.0000e-05\n",
      "Epoch 16/1000\n",
      "528/528 [==============================] - 8s 15ms/step - loss: 2.4495e-04 - mae: 0.0106 - mse: 2.4495e-04 - val_loss: 3.0935e-04 - val_mae: 0.0109 - val_mse: 3.0935e-04 - lr: 5.0000e-05\n",
      "final model\n"
     ]
    }
   ],
   "source": [
    "clustered_model.compile(optimizer=optimizers.Adam(5e-4), loss='mean_squared_error',  metrics=['mae', 'mse'])\n",
    "\n",
    "fitModel(clustered_model)\n",
    "\n",
    "final_clustered_model = tfmot.clustering.keras.strip_clustering(clustered_model)\n",
    "\n",
    "print(\"final model\")"
   ]
  },
  {
   "cell_type": "code",
   "execution_count": 24,
   "metadata": {},
   "outputs": [
    {
     "name": "stdout",
     "output_type": "stream",
     "text": [
      "Model: \"model\"\n",
      "_________________________________________________________________\n",
      " Layer (type)                Output Shape              Param #   \n",
      "=================================================================\n",
      " input_1 (InputLayer)        [(None, 14, 8, 8)]        0         \n",
      "                                                                 \n",
      " conv2d (Conv2D)             (None, 14, 8, 32)         2336      \n",
      "                                                                 \n",
      " conv2d_1 (Conv2D)           (None, 14, 8, 32)         9248      \n",
      "                                                                 \n",
      " conv2d_2 (Conv2D)           (None, 14, 8, 32)         9248      \n",
      "                                                                 \n",
      " conv2d_3 (Conv2D)           (None, 14, 8, 32)         9248      \n",
      "                                                                 \n",
      " flatten (Flatten)           (None, 3584)              0         \n",
      "                                                                 \n",
      " dense (Dense)               (None, 64)                229440    \n",
      "                                                                 \n",
      " dense_1 (Dense)             (None, 1)                 65        \n",
      "                                                                 \n",
      "=================================================================\n",
      "Total params: 259,585\n",
      "Trainable params: 259,585\n",
      "Non-trainable params: 0\n",
      "_________________________________________________________________\n"
     ]
    }
   ],
   "source": [
    "final_clustered_model.summary()\n",
    "final_clustered_model.compile(optimizer=optimizers.Adam(5e-4), loss='mean_squared_error',  metrics=['mae', 'mse'])"
   ]
  },
  {
   "cell_type": "code",
   "execution_count": 25,
   "metadata": {},
   "outputs": [
    {
     "name": "stdout",
     "output_type": "stream",
     "text": [
      "\n",
      "\n",
      "Size of the original model before comression : 3.03 MB\n",
      "Size of gzipped clustered model before compression: 1.10 MB\n",
      "Size of gzipped clustered model after compression: 0.14 MB\n"
     ]
    }
   ],
   "source": [
    "print(\"\\n\")\n",
    "print(\"Size of the original model before comression : %.2f MB\" \n",
    "      %(os.path.getsize(origModelFile) / float(2**20)))\n",
    "print(\"Size of gzipped clustered model before compression: %.2f MB\" \n",
    "      % (get_gzipped_model_size(clustered_model) / float(2**20)))\n",
    "print(\"Size of gzipped clustered model after compression: %.2f MB\" \n",
    "      % (get_gzipped_model_size(final_clustered_model) / float(2**20)))\n",
    "model_sizes.append(get_gzipped_model_size(clustered_model) / float(2**20))"
   ]
  },
  {
   "cell_type": "code",
   "execution_count": 26,
   "metadata": {},
   "outputs": [
    {
     "name": "stdout",
     "output_type": "stream",
     "text": [
      "9375/9375 - 13s - loss: 3.0729e-04 - mae: 0.0109 - mse: 3.0729e-04 - 13s/epoch - 1ms/step\n",
      "Testing set Mean Abs Error: 0.01089 \n"
     ]
    }
   ],
   "source": [
    "loss, mae, mse = final_clustered_model.evaluate(x_test, y_test, verbose=2)\n",
    "print(\"Testing set Mean Abs Error: {:5.5f} \".format(mae))\n",
    "final_clustered_model.save('clustered_model.h5')\n",
    "maes.append(mae)"
   ]
  },
  {
   "cell_type": "markdown",
   "metadata": {},
   "source": [
    "Pruning"
   ]
  },
  {
   "cell_type": "code",
   "execution_count": 27,
   "metadata": {},
   "outputs": [
    {
     "name": "stdout",
     "output_type": "stream",
     "text": [
      "Model: \"model\"\n",
      "_________________________________________________________________\n",
      " Layer (type)                Output Shape              Param #   \n",
      "=================================================================\n",
      " input_1 (InputLayer)        [(None, 14, 8, 8)]        0         \n",
      "                                                                 \n",
      " prune_low_magnitude_conv2d   (None, 14, 8, 32)        4642      \n",
      " (PruneLowMagnitude)                                             \n",
      "                                                                 \n",
      " prune_low_magnitude_conv2d_  (None, 14, 8, 32)        18466     \n",
      " 1 (PruneLowMagnitude)                                           \n",
      "                                                                 \n",
      " prune_low_magnitude_conv2d_  (None, 14, 8, 32)        18466     \n",
      " 2 (PruneLowMagnitude)                                           \n",
      "                                                                 \n",
      " prune_low_magnitude_conv2d_  (None, 14, 8, 32)        18466     \n",
      " 3 (PruneLowMagnitude)                                           \n",
      "                                                                 \n",
      " prune_low_magnitude_flatten  (None, 3584)             1         \n",
      "  (PruneLowMagnitude)                                            \n",
      "                                                                 \n",
      " prune_low_magnitude_dense (  (None, 64)               458818    \n",
      " PruneLowMagnitude)                                              \n",
      "                                                                 \n",
      " prune_low_magnitude_dense_1  (None, 1)                131       \n",
      "  (PruneLowMagnitude)                                            \n",
      "                                                                 \n",
      "=================================================================\n",
      "Total params: 518,990\n",
      "Trainable params: 259,585\n",
      "Non-trainable params: 259,405\n",
      "_________________________________________________________________\n",
      "Epoch 1/20\n",
      "   1/2110 [..............................] - ETA: 2:13:04 - loss: 3.2325e-04 - mae: 0.0107 - mse: 3.2325e-04WARNING:tensorflow:Callback method `on_train_batch_end` is slow compared to the batch time (batch time: 0.0061s vs `on_train_batch_end` time: 0.0091s). Check your callbacks.\n",
      "2110/2110 [==============================] - 17s 6ms/step - loss: 5.4611e-04 - mae: 0.0148 - mse: 5.4611e-04 - val_loss: 4.0701e-04 - val_mae: 0.0125 - val_mse: 4.0701e-04\n",
      "Epoch 2/20\n",
      "2110/2110 [==============================] - 13s 6ms/step - loss: 3.7475e-04 - mae: 0.0121 - mse: 3.7475e-04 - val_loss: 3.8364e-04 - val_mae: 0.0120 - val_mse: 3.8364e-04\n",
      "Epoch 3/20\n",
      "2110/2110 [==============================] - 13s 6ms/step - loss: 3.5376e-04 - mae: 0.0118 - mse: 3.5376e-04 - val_loss: 3.7746e-04 - val_mae: 0.0118 - val_mse: 3.7746e-04\n",
      "Epoch 4/20\n",
      "2110/2110 [==============================] - 13s 6ms/step - loss: 3.4097e-04 - mae: 0.0116 - mse: 3.4097e-04 - val_loss: 3.7515e-04 - val_mae: 0.0119 - val_mse: 3.7515e-04\n",
      "Epoch 5/20\n",
      "2110/2110 [==============================] - 13s 6ms/step - loss: 3.3409e-04 - mae: 0.0115 - mse: 3.3409e-04 - val_loss: 3.7584e-04 - val_mae: 0.0116 - val_mse: 3.7584e-04\n",
      "Epoch 6/20\n",
      "2110/2110 [==============================] - 14s 7ms/step - loss: 3.3084e-04 - mae: 0.0115 - mse: 3.3084e-04 - val_loss: 3.7451e-04 - val_mae: 0.0117 - val_mse: 3.7451e-04\n",
      "Epoch 7/20\n",
      "2110/2110 [==============================] - 13s 6ms/step - loss: 3.2764e-04 - mae: 0.0115 - mse: 3.2764e-04 - val_loss: 3.8631e-04 - val_mae: 0.0118 - val_mse: 3.8631e-04\n",
      "Epoch 8/20\n",
      "2110/2110 [==============================] - 13s 6ms/step - loss: 3.2731e-04 - mae: 0.0115 - mse: 3.2731e-04 - val_loss: 3.9012e-04 - val_mae: 0.0119 - val_mse: 3.9012e-04\n",
      "Epoch 9/20\n",
      "2110/2110 [==============================] - 13s 6ms/step - loss: 3.3166e-04 - mae: 0.0116 - mse: 3.3166e-04 - val_loss: 3.8333e-04 - val_mae: 0.0118 - val_mse: 3.8333e-04\n",
      "Epoch 10/20\n",
      "2110/2110 [==============================] - 13s 6ms/step - loss: 3.2547e-04 - mae: 0.0115 - mse: 3.2547e-04 - val_loss: 3.9294e-04 - val_mae: 0.0120 - val_mse: 3.9294e-04\n",
      "Epoch 11/20\n",
      "2110/2110 [==============================] - 13s 6ms/step - loss: 3.2298e-04 - mae: 0.0115 - mse: 3.2298e-04 - val_loss: 3.8992e-04 - val_mae: 0.0119 - val_mse: 3.8992e-04\n",
      "Epoch 12/20\n",
      "2110/2110 [==============================] - 13s 6ms/step - loss: 3.1955e-04 - mae: 0.0114 - mse: 3.1955e-04 - val_loss: 3.8719e-04 - val_mae: 0.0117 - val_mse: 3.8719e-04\n",
      "Epoch 13/20\n",
      "2110/2110 [==============================] - 13s 6ms/step - loss: 3.1627e-04 - mae: 0.0114 - mse: 3.1627e-04 - val_loss: 3.9205e-04 - val_mae: 0.0118 - val_mse: 3.9205e-04\n",
      "Epoch 14/20\n",
      "2110/2110 [==============================] - 13s 6ms/step - loss: 4.1448e-04 - mae: 0.0125 - mse: 4.1448e-04 - val_loss: 4.0672e-04 - val_mae: 0.0121 - val_mse: 4.0672e-04\n",
      "Epoch 15/20\n",
      "2110/2110 [==============================] - 14s 7ms/step - loss: 3.4067e-04 - mae: 0.0118 - mse: 3.4067e-04 - val_loss: 3.9742e-04 - val_mae: 0.0119 - val_mse: 3.9742e-04\n",
      "Epoch 16/20\n",
      "2110/2110 [==============================] - 13s 6ms/step - loss: 3.2441e-04 - mae: 0.0115 - mse: 3.2441e-04 - val_loss: 3.9375e-04 - val_mae: 0.0118 - val_mse: 3.9375e-04\n",
      "Epoch 17/20\n",
      "2110/2110 [==============================] - 13s 6ms/step - loss: 3.1738e-04 - mae: 0.0115 - mse: 3.1738e-04 - val_loss: 3.9998e-04 - val_mae: 0.0120 - val_mse: 3.9998e-04\n",
      "Epoch 18/20\n",
      "2110/2110 [==============================] - 13s 6ms/step - loss: 3.1251e-04 - mae: 0.0114 - mse: 3.1251e-04 - val_loss: 3.9581e-04 - val_mae: 0.0118 - val_mse: 3.9581e-04\n",
      "Epoch 19/20\n",
      "2110/2110 [==============================] - 13s 6ms/step - loss: 3.0716e-04 - mae: 0.0113 - mse: 3.0716e-04 - val_loss: 3.9543e-04 - val_mae: 0.0118 - val_mse: 3.9543e-04\n",
      "Epoch 20/20\n",
      "2110/2110 [==============================] - 13s 6ms/step - loss: 3.0415e-04 - mae: 0.0113 - mse: 3.0415e-04 - val_loss: 3.9258e-04 - val_mae: 0.0117 - val_mse: 3.9258e-04\n"
     ]
    },
    {
     "data": {
      "text/plain": [
       "<keras.callbacks.History at 0x1e118b2f850>"
      ]
     },
     "execution_count": 27,
     "metadata": {},
     "output_type": "execute_result"
    }
   ],
   "source": [
    "import tensorflow_model_optimization as tfmot\n",
    "origModelFile = 'clustered_model.h5'\n",
    "model = tf.keras.models.load_model(origModelFile)\n",
    "prune_low_magnitude = tfmot.sparsity.keras.prune_low_magnitude\n",
    "\n",
    "# Compute end step to finish pruning after 2 epochs.\n",
    "batch_size = 512\n",
    "epochs = 20\n",
    "validation_split = 0.1 # 10% of training set will be used for validation set. \n",
    "\n",
    "num_boards = x_train.shape[0] * (1 - validation_split)\n",
    "end_step = numpy.ceil(num_boards / batch_size).astype(numpy.int16) * epochs\n",
    "\n",
    "# Define model for pruning.\n",
    "pruning_params = {\n",
    "      'pruning_schedule': tfmot.sparsity.keras.PolynomialDecay(initial_sparsity=0.50,\n",
    "                                                               final_sparsity=0.80,\n",
    "                                                               begin_step=0,\n",
    "                                                               end_step=end_step)\n",
    "}\n",
    "\n",
    "model_for_pruning = prune_low_magnitude(model, **pruning_params)\n",
    "\n",
    "# `prune_low_magnitude` requires a recompile.\n",
    "model_for_pruning.compile(optimizer=optimizers.Adam(5e-4), loss='mean_squared_error',  metrics=['mae', 'mse'])\n",
    "\n",
    "model_for_pruning.summary()\n",
    "\n",
    "logdir = tempfile.mkdtemp()\n",
    "\n",
    "callbacks = [\n",
    "  tfmot.sparsity.keras.UpdatePruningStep(),\n",
    "  tfmot.sparsity.keras.PruningSummaries(log_dir=logdir),\n",
    "]\n",
    "  \n",
    "model_for_pruning.fit(x_train, y_train,\n",
    "                  batch_size=batch_size, epochs=epochs, validation_split=validation_split,\n",
    "                  callbacks=callbacks)"
   ]
  },
  {
   "cell_type": "code",
   "execution_count": 28,
   "metadata": {},
   "outputs": [],
   "source": [
    "final_pruning_model = tfmot.sparsity.keras.strip_pruning(model_for_pruning)\n",
    "final_pruning_model.compile(optimizer=optimizers.Adam(5e-4), loss='mean_squared_error',  metrics=['mae', 'mse'])"
   ]
  },
  {
   "cell_type": "code",
   "execution_count": 29,
   "metadata": {},
   "outputs": [
    {
     "name": "stdout",
     "output_type": "stream",
     "text": [
      "9375/9375 - 13s - loss: 3.8656e-04 - mae: 0.0117 - mse: 3.8656e-04 - 13s/epoch - 1ms/step\n",
      "Testing set Mean Abs Error: 0.01167 \n"
     ]
    }
   ],
   "source": [
    "loss, mae, mse = final_pruning_model.evaluate(x_test, y_test, verbose=2)\n",
    "print(\"Testing set Mean Abs Error: {:5.5f} \".format(mae))\n",
    "final_pruning_model.save('pruned_model.h5')\n",
    "maes.append(mae)"
   ]
  },
  {
   "cell_type": "code",
   "execution_count": 30,
   "metadata": {},
   "outputs": [
    {
     "name": "stdout",
     "output_type": "stream",
     "text": [
      "\n",
      "\n",
      "Size of the original model before comression : 1.01 MB\n",
      "Size of gzipped pruned model before compression: 0.33 MB\n",
      "Size of gzipped pruned model after compression: 0.28 MB\n"
     ]
    }
   ],
   "source": [
    "print(\"\\n\")\n",
    "print(\"Size of the original model before comression : %.2f MB\" \n",
    "      %(os.path.getsize(origModelFile) / float(2**20)))\n",
    "print(\"Size of gzipped pruned model before compression: %.2f MB\" \n",
    "      % (get_gzipped_model_size(model_for_pruning) / float(2**20)))\n",
    "print(\"Size of gzipped pruned model after compression: %.2f MB\" \n",
    "      % (get_gzipped_model_size(final_pruning_model) / float(2**20)))\n",
    "model_sizes.append(get_gzipped_model_size(model_for_pruning) / float(2**20))"
   ]
  },
  {
   "cell_type": "markdown",
   "metadata": {},
   "source": [
    "Quantization"
   ]
  },
  {
   "cell_type": "code",
   "execution_count": 31,
   "metadata": {},
   "outputs": [
    {
     "name": "stdout",
     "output_type": "stream",
     "text": [
      "9375/9375 - 17s - loss: 3.8656e-04 - mae: 0.0117 - mse: 3.8656e-04 - 17s/epoch - 2ms/step\n",
      "Testing set Mean Abs Error: 0.01167 \n"
     ]
    }
   ],
   "source": [
    "loss, mae, mse = model_for_pruning.evaluate(x_test, y_test, verbose=2)\n",
    "print(\"Testing set Mean Abs Error: {:5.5f} \".format(mae))\n",
    "model_for_pruning.save('clustored_pruned_model.h5')"
   ]
  },
  {
   "cell_type": "code",
   "execution_count": 32,
   "metadata": {
    "scrolled": true
   },
   "outputs": [
    {
     "name": "stderr",
     "output_type": "stream",
     "text": [
      "WARNING:absl:Found untraced functions such as _jit_compiled_convolution_op, _jit_compiled_convolution_op, _jit_compiled_convolution_op, _jit_compiled_convolution_op while saving (showing 4 of 4). These functions will not be directly callable after loading.\n"
     ]
    },
    {
     "name": "stdout",
     "output_type": "stream",
     "text": [
      "INFO:tensorflow:Assets written to: C:\\Users\\Garrett\\AppData\\Local\\Temp\\tmp0yhmpgzb\\assets\n"
     ]
    },
    {
     "name": "stderr",
     "output_type": "stream",
     "text": [
      "INFO:tensorflow:Assets written to: C:\\Users\\Garrett\\AppData\\Local\\Temp\\tmp0yhmpgzb\\assets\n"
     ]
    }
   ],
   "source": [
    "converter = tf.lite.TFLiteConverter.from_keras_model(final_pruning_model)\n",
    "converter.optimizations = [tf.lite.Optimize.DEFAULT]\n",
    "final_model = converter.convert()"
   ]
  },
  {
   "cell_type": "code",
   "execution_count": 33,
   "metadata": {},
   "outputs": [],
   "source": [
    "final_model_file = 'final.tflite'\n",
    "with open(final_model_file, 'wb') as f:\n",
    "    f.write(final_model)"
   ]
  },
  {
   "cell_type": "code",
   "execution_count": 34,
   "metadata": {},
   "outputs": [],
   "source": [
    "#creat an interpretor and test \n",
    "interpreter = tf.lite.Interpreter(model_path=str(final_model_file))\n",
    "interpreter.allocate_tensors()\n",
    "input_index = interpreter.get_input_details()[0][\"index\"]\n",
    "output_index = interpreter.get_output_details()[0][\"index\"]"
   ]
  },
  {
   "cell_type": "code",
   "execution_count": 35,
   "metadata": {},
   "outputs": [],
   "source": [
    "x_test = numpy.float32(x_test)"
   ]
  },
  {
   "cell_type": "code",
   "execution_count": 36,
   "metadata": {},
   "outputs": [
    {
     "data": {
      "text/plain": [
       "numpy.ndarray"
      ]
     },
     "execution_count": 36,
     "metadata": {},
     "output_type": "execute_result"
    }
   ],
   "source": [
    "type(x_test[0])\n"
   ]
  },
  {
   "cell_type": "code",
   "execution_count": 37,
   "metadata": {},
   "outputs": [],
   "source": [
    "#creat an interpretor and test \n",
    "final_model_file = 'final.tflite'\n",
    "interpreter = tf.lite.Interpreter(model_path=str(final_model_file))\n",
    "interpreter.allocate_tensors()\n",
    "input_index = interpreter.get_input_details()[0][\"index\"]\n",
    "output_index = interpreter.get_output_details()[0][\"index\"]"
   ]
  },
  {
   "cell_type": "code",
   "execution_count": 38,
   "metadata": {},
   "outputs": [
    {
     "name": "stdout",
     "output_type": "stream",
     "text": [
      "MAE after 10000 boards: 0.011931\n",
      "MAE after 20000 boards: 0.011788\n",
      "MAE after 30000 boards: 0.011790\n",
      "MAE after 40000 boards: 0.011774\n",
      "MAE after 50000 boards: 0.011738\n",
      "MAE after 60000 boards: 0.011706\n",
      "MAE after 70000 boards: 0.011729\n",
      "MAE after 80000 boards: 0.011744\n",
      "MAE after 90000 boards: 0.011769\n",
      "MAE after 100000 boards: 0.011800\n",
      "MAE after 110000 boards: 0.011805\n",
      "MAE after 120000 boards: 0.011790\n",
      "MAE after 130000 boards: 0.011785\n",
      "MAE after 140000 boards: 0.011791\n",
      "MAE after 150000 boards: 0.011801\n"
     ]
    }
   ],
   "source": [
    "\n",
    "\n",
    "x_test = numpy.float32(x_test)\n",
    "total_seen = 0\n",
    "running_mse = 0.0\n",
    "running_mae = 0.0\n",
    "\n",
    "for i in range(round(y_test.size/2)):\n",
    "        evaluation = y_test[i]\n",
    "        board = x_test[i]\n",
    "        #print(board)\n",
    "        #print(evaluation.shape)\n",
    "        #print(y_test.shape)\n",
    "        board2 = board.reshape((1,14,8,8))\n",
    "        #print(board.shape)\n",
    "        total_seen += 1\n",
    "        interpreter.set_tensor(input_index, board2)\n",
    "        interpreter.invoke()\n",
    "        predictionlist = interpreter.get_tensor(output_index)\n",
    "        prediction = predictionlist[0][0].item()\n",
    "        diff = abs(prediction - evaluation)\n",
    "        #print(prediction)\n",
    "        #print(evaluation)\n",
    "        #print(type(running_mse))\n",
    "        running_mse += (diff * diff)\n",
    "        #print(type(running_mse))\n",
    "        running_mae += diff\n",
    "    \n",
    "        if total_seen % 10000 == 0:\n",
    "            print('MAE after %i boards: %3f' %(total_seen, float(running_mae) / float(total_seen)))\n",
    "\n",
    "#float(running_mse) / float(total_seen)"
   ]
  },
  {
   "cell_type": "code",
   "execution_count": 39,
   "metadata": {},
   "outputs": [
    {
     "name": "stdout",
     "output_type": "stream",
     "text": [
      "Final MAE after 150000 boards: 0.011801\n",
      "Final MSE after 150000 boards: 0.000395\n"
     ]
    }
   ],
   "source": [
    "print('Final MAE after %i boards: %3f' %(total_seen, float(running_mae) / float(total_seen)))\n",
    "print('Final MSE after %i boards: %3f' %(total_seen, float(running_mse) / float(total_seen)))\n",
    "maes.append(float(running_mae) / float(total_seen))"
   ]
  },
  {
   "cell_type": "code",
   "execution_count": 40,
   "metadata": {},
   "outputs": [
    {
     "name": "stdout",
     "output_type": "stream",
     "text": [
      "Size of the clustored, pruned, and quantized model before comression : 0.25 MB\n",
      "Size of the clustored, pruned, and quantized model after comression : 0.07 MB\n"
     ]
    }
   ],
   "source": [
    "_, zip_tflite = tempfile.mkstemp('.zip')\n",
    "with zipfile.ZipFile(zip_tflite, 'w', compression=zipfile.ZIP_DEFLATED) as f:\n",
    "    f.write(final_model_file)\n",
    "print(\"Size of the clustored, pruned, and quantized model before comression : %.2f MB\" %(os.path.getsize(final_model_file) / float(2**20)))\n",
    "\n",
    "print(\"Size of the clustored, pruned, and quantized model after comression : %.2f MB\" %(os.path.getsize(zip_tflite) / float(2**20)))\n",
    "model_sizes.append(os.path.getsize(zip_tflite) / float(2**20))"
   ]
  },
  {
   "cell_type": "code",
   "execution_count": 41,
   "metadata": {},
   "outputs": [
    {
     "data": {
      "text/plain": [
       "0.47142902"
      ]
     },
     "execution_count": 41,
     "metadata": {},
     "output_type": "execute_result"
    }
   ],
   "source": [
    "board = x_test[1900]\n",
    "board2 = board.reshape((1,14,8,8))\n",
    "interpreter.set_tensor(input_index, board2)\n",
    "interpreter.invoke()\n",
    "prediction = interpreter.get_tensor(output_index)\n",
    "fpred = prediction[0][0]\n",
    "fpred"
   ]
  },
  {
   "cell_type": "code",
   "execution_count": 42,
   "metadata": {},
   "outputs": [
    {
     "data": {
      "text/plain": [
       "0.45117542"
      ]
     },
     "execution_count": 42,
     "metadata": {},
     "output_type": "execute_result"
    }
   ],
   "source": [
    "y_test[1900]"
   ]
  },
  {
   "cell_type": "code",
   "execution_count": 43,
   "metadata": {},
   "outputs": [
    {
     "name": "stdout",
     "output_type": "stream",
     "text": [
      "\n",
      "r n b q k b n r\n",
      "p p p p p p p p\n",
      ". . . . . . . .\n",
      ". . . . . . . .\n",
      ". . . . . . . .\n",
      ". . . . . N . .\n",
      "P P P P P P P P\n",
      "R N B Q K B . R\n",
      "\n",
      "r n b q k b n r\n",
      "p p p . p p p p\n",
      ". . . . . . . .\n",
      ". . . p . . . .\n",
      ". . . . . . . .\n",
      ". . . . . N . .\n",
      "P P P P P P P P\n",
      "R N B Q K B . R\n",
      "\n",
      "r n b q k b n r\n",
      "p p p . p p p p\n",
      ". . . . . . . .\n",
      ". . . p . . . .\n",
      ". . . . . . . .\n",
      ". . . P . N . .\n",
      "P P P . P P P P\n",
      "R N B Q K B . R\n",
      "\n",
      "r n b q k b . r\n",
      "p p p . p p p p\n",
      ". . . . . n . .\n",
      ". . . p . . . .\n",
      ". . . . . . . .\n",
      ". . . P . N . .\n",
      "P P P . P P P P\n",
      "R N B Q K B . R\n",
      "\n",
      "r n b q k b . r\n",
      "p p p . p p p p\n",
      ". . . . . n . .\n",
      ". . . p . . . .\n",
      ". . . . . . . .\n",
      ". . . P B N . .\n",
      "P P P . P P P P\n",
      "R N . Q K B . R\n",
      "\n",
      "r n b q k b . r\n",
      "p p p . . p p p\n",
      ". . . . p n . .\n",
      ". . . p . . . .\n",
      ". . . . . . . .\n",
      ". . . P B N . .\n",
      "P P P . P P P P\n",
      "R N . Q K B . R\n",
      "\n",
      "r n b q k b . r\n",
      "p p p . . p p p\n",
      ". . . . p n . .\n",
      ". . . p . . . .\n",
      ". . . . . . . .\n",
      ". . N P B N . .\n",
      "P P P . P P P P\n",
      "R . . Q K B . R\n",
      "\n",
      "r n b q k b . r\n",
      "p p . . . p p p\n",
      ". . . . p n . .\n",
      ". . p p . . . .\n",
      ". . . . . . . .\n",
      ". . N P B N . .\n",
      "P P P . P P P P\n",
      "R . . Q K B . R\n",
      "\n",
      "r n b q k b . r\n",
      "p p . . . p p p\n",
      ". . . . p n . .\n",
      ". . p p . . . .\n",
      ". . . . . . . .\n",
      ". . N P B N . .\n",
      "P P P Q P P P P\n",
      "R . . . K B . R\n",
      "\n",
      "r n b q k b . r\n",
      "p p . . . p p p\n",
      ". . . . p n . .\n",
      ". . p . . . . .\n",
      ". . . p . . . .\n",
      ". . N P B N . .\n",
      "P P P Q P P P P\n",
      "R . . . K B . R\n",
      "\n",
      "r n b q k b . r\n",
      "p p . . . p p p\n",
      ". . . . p n . .\n",
      ". . p . . . . .\n",
      ". . . B . . . .\n",
      ". . N P . N . .\n",
      "P P P Q P P P P\n",
      "R . . . K B . R\n",
      "\n",
      "r n b q k b . r\n",
      "p p . . . p p p\n",
      ". . . . p n . .\n",
      ". . . . . . . .\n",
      ". . . p . . . .\n",
      ". . N P . N . .\n",
      "P P P Q P P P P\n",
      "R . . . K B . R\n",
      "\n",
      "r n b q k b . r\n",
      "p p . . . p p p\n",
      ". . . . p n . .\n",
      ". N . . . . . .\n",
      ". . . p . . . .\n",
      ". . . P . N . .\n",
      "P P P Q P P P P\n",
      "R . . . K B . R\n",
      "\n",
      "r . b q k b . r\n",
      "p p . . . p p p\n",
      ". . n . p n . .\n",
      ". N . . . . . .\n",
      ". . . p . . . .\n",
      ". . . P . N . .\n",
      "P P P Q P P P P\n",
      "R . . . K B . R\n",
      "\n",
      "r . b q k b . r\n",
      "p p . . . p p p\n",
      ". . n . p n . .\n",
      ". N . . . . . .\n",
      ". . P p . . . .\n",
      ". . . P . N . .\n",
      "P P . Q P P P P\n",
      "R . . . K B . R\n",
      "\n",
      "r . b q k . . r\n",
      "p p . . . p p p\n",
      ". . n . p n . .\n",
      ". N . . . . . .\n",
      ". b P p . . . .\n",
      ". . . P . N . .\n",
      "P P . Q P P P P\n",
      "R . . . K B . R\n",
      "\n",
      "r . b q k . . r\n",
      "p p N . . p p p\n",
      ". . n . p n . .\n",
      ". . . . . . . .\n",
      ". b P p . . . .\n",
      ". . . P . N . .\n",
      "P P . Q P P P P\n",
      "R . . . K B . R\n",
      "\n",
      "r . b . k . . r\n",
      "p p q . . p p p\n",
      ". . n . p n . .\n",
      ". . . . . . . .\n",
      ". b P p . . . .\n",
      ". . . P . N . .\n",
      "P P . Q P P P P\n",
      "R . . . K B . R\n",
      "\n",
      "r . b . k . . r\n",
      "p p q . . p p p\n",
      ". . n . p n . .\n",
      ". . . . . . . .\n",
      ". Q P p . . . .\n",
      ". . . P . N . .\n",
      "P P . . P P P P\n",
      "R . . . K B . R\n",
      "\n",
      "r . b . k . . r\n",
      "p p q . . p p p\n",
      ". . . . p n . .\n",
      ". . . . . . . .\n",
      ". n P p . . . .\n",
      ". . . P . N . .\n",
      "P P . . P P P P\n",
      "R . . . K B . R\n",
      "\n",
      "r . b . k . . r\n",
      "p p q . . p p p\n",
      ". . . . p n . .\n",
      ". . . . . . . .\n",
      ". n P p . . . .\n",
      ". . . P . N . .\n",
      "P P . . P P P P\n",
      "R . . K . B . R\n",
      "\n",
      "r . b . k . . r\n",
      "p p q . . p p p\n",
      ". . . . p . . .\n",
      ". . . . . . . .\n",
      ". n P p . . n .\n",
      ". . . P . N . .\n",
      "P P . . P P P P\n",
      "R . . K . B . R\n",
      "\n",
      "r . b . k . . r\n",
      "p p q . . p p p\n",
      ". . . . p . . .\n",
      ". . . . . . . .\n",
      ". n P p . . n .\n",
      ". . . P . N . .\n",
      "P P . . P P P P\n",
      "R . K . . B . R\n",
      "\n",
      "r . b . k . . r\n",
      "p p . . . p p p\n",
      ". . . . p . . .\n",
      ". . . . . . . .\n",
      ". n P p . q n .\n",
      ". . . P . N . .\n",
      "P P . . P P P P\n",
      "R . K . . B . R\n",
      "\n",
      "r . b . k . . r\n",
      "p p . . . p p p\n",
      ". . . . p . . .\n",
      ". . . . . . . .\n",
      ". n P p . q n .\n",
      ". . . P . N . .\n",
      "P P . . P P P P\n",
      "R K . . . B . R\n",
      "\n",
      "r . b . k . . r\n",
      "p p . . . p p p\n",
      ". . . . p . . .\n",
      ". . . . . . . .\n",
      ". n P p . q . .\n",
      ". . . P . N . .\n",
      "P P . . P n P P\n",
      "R K . . . B . R\n",
      "\n",
      "r . b . k . . r\n",
      "p p . . . p p p\n",
      ". . . . p . . .\n",
      ". . . . . . . .\n",
      ". n P p . q . .\n",
      ". . . P . N P .\n",
      "P P . . P n . P\n",
      "R K . . . B . R\n",
      "\n",
      "r . b . k . . r\n",
      "p p . . . p p p\n",
      ". . . . p . . .\n",
      ". . . . . . . .\n",
      ". n P p . . . .\n",
      ". . . P q N P .\n",
      "P P . . P n . P\n",
      "R K . . . B . R\n",
      "\n",
      "r . b . k . . r\n",
      "p p . . . p p p\n",
      ". . . . p . . .\n",
      ". . . . . . . .\n",
      ". n P p . . . .\n",
      ". . . P q N P .\n",
      "P P . . P n . P\n",
      "R K . . . B R .\n",
      "\n",
      "r . b . k . . r\n",
      "p p . . . p p p\n",
      ". . . . p . . .\n",
      ". . . . . . . .\n",
      ". n P p . . . .\n",
      ". . . n q N P .\n",
      "P P . . P . . P\n",
      "R K . . . B R .\n",
      "\n",
      "r . b . k . . r\n",
      "p p . . . p p p\n",
      ". . . . p . . .\n",
      ". . . . . . . .\n",
      ". n P p . . . .\n",
      ". . . P q N P .\n",
      "P P . . . . . P\n",
      "R K . . . B R .\n",
      "\n",
      "r . b . k . . r\n",
      "p p . . . p p p\n",
      ". . . . p . . .\n",
      ". . . . . . . .\n",
      ". n P p . . . .\n",
      ". . . P . N P .\n",
      "P P . . . q . P\n",
      "R K . . . B R .\n",
      "\n",
      "r . b . k . . r\n",
      "p p . . . p p p\n",
      ". . . . p . . .\n",
      ". . . . . . . .\n",
      ". n P p . . . .\n",
      ". . . P . N P B\n",
      "P P . . . q . P\n",
      "R K . . . . R .\n",
      "\n",
      "r . b . k . . r\n",
      "p p . . . p p p\n",
      ". . . . p . . .\n",
      ". . . . . . . .\n",
      ". n P p . . . .\n",
      ". . . P . N P B\n",
      "P P q . . . . P\n",
      "R K . . . . R .\n",
      "black won game_over with 34 moves\n",
      "Adverage moves per second: 0.07\n"
     ]
    }
   ],
   "source": [
    "#must set up interpretor before using\n",
    "start_time = time.time()\n",
    "numMoves, winner = playStockfish([], 2, True, True)\n",
    "timeTaken = (time.time() - start_time)\n",
    "print(\"Adverage moves per second: %.2f\" \n",
    "      % ((numMoves / 2)/timeTaken))"
   ]
  },
  {
   "cell_type": "code",
   "execution_count": 44,
   "metadata": {},
   "outputs": [
    {
     "data": {
      "image/png": "[encoded data removed]",
      "text/plain": [
       "<IPython.core.display.Image object>"
      ]
     },
     "execution_count": 44,
     "metadata": {},
     "output_type": "execute_result"
    }
   ],
   "source": [
    "from tensorflow.keras.utils import plot_model\n",
    "#Create a PNG showing the autoKeras model and its structure \n",
    "##print(type(final_model))\n",
    "#final_model.build(x_test[0].shape)\n",
    "\n",
    "plot_model(\n",
    "    final_pruning_model,\n",
    "    to_file='FinalModel.png',\n",
    "    show_shapes=False,\n",
    "    show_dtype=False,\n",
    "    show_layer_names=True,\n",
    "    rankdir='TB',\n",
    "    expand_nested=False,\n",
    "    dpi=96,\n",
    "    layer_range=None,\n",
    "    show_layer_activations=False\n",
    ")\n"
   ]
  },
  {
   "cell_type": "code",
   "execution_count": 45,
   "metadata": {},
   "outputs": [
    {
     "data": {
      "text/plain": [
       "(300000, 14, 8, 8)"
      ]
     },
     "execution_count": 45,
     "metadata": {},
     "output_type": "execute_result"
    }
   ],
   "source": [
    "x_test.shape"
   ]
  },
  {
   "cell_type": "markdown",
   "metadata": {},
   "source": [
    "# Comparing compressed model to original model"
   ]
  },
  {
   "cell_type": "code",
   "execution_count": 46,
   "metadata": {},
   "outputs": [],
   "source": [
    "def speedTest(numberOfBoards):\n",
    "    sampleBoardsTFLite = x_test[:numberOfBoards]\n",
    "    sampleBoards = x_test[:numberOfBoards]\n",
    "    sampleBoards = numpy.float32(sampleBoards)\n",
    "    sampleBoardsTFLite = numpy.float32(sampleBoardsTFLite)\n",
    "    for i in range(numberOfBoards):\n",
    "        board = sampleBoardsTFLite[i]\n",
    "        board2 = board.reshape((1,14,8,8))\n",
    "        sampleBoardsTFLite[i] = board2\n",
    "   \n",
    "    print(\"ORIGINAL MODEL \\n\")\n",
    "    origModelFile = 'model.h5'\n",
    "    start_time = time.time()\n",
    "    for board in sampleBoards:\n",
    "        #print(type(board))\n",
    "        board = numpy.expand_dims(board, axis=0)\n",
    "        #print(board.shape)\n",
    "        interpreter.set_tensor(input_index, board2)\n",
    "        interpreter.invoke()\n",
    "        prediction = interpreter.get_tensor(output_index)\n",
    "    timeTaken = (time.time() - start_time)\n",
    "    print(\"It took the final model %.3f seonds to evalueate %i boards with an average time of %.3f per board \\n\" %(timeTaken, numberOfBoards, float(timeTaken/numberOfBoards)) )\n",
    "\n",
    "    print(\"FINAL MODEL \\n\")\n",
    "    origModelFile = 'model.h5'\n",
    "    start_time = time.time()\n",
    "    model = tf.keras.models.load_model(origModelFile)\n",
    "    for board in sampleBoards:\n",
    "        #print(type(board))\n",
    "        board = numpy.expand_dims(board, axis=0)\n",
    "        #print(board.shape)\n",
    "        model(board)[0][0]\n",
    "    timeTaken = (time.time() - start_time)\n",
    "    print(\"It took the orginal model %.3f seonds to evalueate %i boards with an average time of %.3f per board \\n\" %(timeTaken, numberOfBoards, float(timeTaken/numberOfBoards)) )\n",
    "    \n",
    "    "
   ]
  },
  {
   "cell_type": "code",
   "execution_count": 47,
   "metadata": {},
   "outputs": [
    {
     "name": "stdout",
     "output_type": "stream",
     "text": [
      "ORIGINAL MODEL \n",
      "\n",
      "It took the final model 71.544 seonds to evalueate 5000 boards with an average time of 0.014 per board \n",
      "\n",
      "FINAL MODEL \n",
      "\n",
      "It took the orginal model 15.296 seonds to evalueate 5000 boards with an average time of 0.003 per board \n",
      "\n"
     ]
    }
   ],
   "source": [
    "speedTest(5000)"
   ]
  },
  {
   "cell_type": "code",
   "execution_count": 51,
   "metadata": {},
   "outputs": [],
   "source": [
    "from scipy import stats\n",
    "\n",
    "def playingTest(gamesToPlay, depth):\n",
    "    origModelFile = 'model.h5'\n",
    "    model = tf.keras.models.load_model(origModelFile)\n",
    "    movesEachGame = numpy.empty([gamesToPlay])\n",
    "    engineWins = 0\n",
    "    stockfishWins = 0\n",
    "    for i in range(gamesToPlay):\n",
    "        print('Starting game number: %i' %i)\n",
    "        movesThisGame, winner = playStockfish(model, depth, False, False)\n",
    "        movesEachGame[i] = movesThisGame\n",
    "        if winner:\n",
    "            engineWins += 1\n",
    "        else:\n",
    "            stockfishWins += 1\n",
    "    mode = stats.mode(movesEachGame, axis = None)\n",
    "    average = numpy.average(movesEachGame)  \n",
    "    std = numpy.std(movesEachGame)\n",
    "    print(\"\\nORIGINAL MODEL \\n\")\n",
    "    print('After %i games the average number of moves made per game was %.3f, the standard diviation was %.3f, the mode was %i with a count of %i, the min moves was %i, and the max moves was %i.\\n' \n",
    "          %(gamesToPlay, average, std, mode[0], mode[1], numpy.min(movesEachGame), numpy.max(movesEachGame)))\n",
    "    \n",
    "    print('This engine won %i times and stockfish 13 won %i times \\n' \n",
    "          % (engineWins, stockfishWins))\n",
    "    \n",
    "    movesEachGame = numpy.empty([gamesToPlay])\n",
    "    engineWins = 0\n",
    "    stockfishWins = 0\n",
    "    \n",
    "    for i in range(gamesToPlay):\n",
    "        print('Starting game number: %i' %i)\n",
    "        movesThisGame, winner = playStockfish(None, depth, True, False)\n",
    "        movesEachGame[i] = movesThisGame\n",
    "        if winner:\n",
    "            engineWins += 1\n",
    "        else:\n",
    "            stockfishWins += 1\n",
    "    mode = stats.mode(movesEachGame, axis = None)\n",
    "    average = numpy.average(movesEachGame)  \n",
    "    std = numpy.std(movesEachGame)\n",
    "    print(\"\\nFINAL MODEL \\n\")\n",
    "    print('After %i games the average number of moves made per game was %.3f, the standard diviation was %.3f, the mode was %i with a count of %i, the min moves was %i, and the max moves was %i.\\n'\n",
    "          %(gamesToPlay, average, std, mode[0], mode[1], numpy.min(movesEachGame), numpy.max(movesEachGame)))\n",
    "          \n",
    "    print('This engine won %i times and stockfish 13 won %i times' \n",
    "          % (engineWins, stockfishWins))\n",
    "        \n",
    "        "
   ]
  },
  {
   "cell_type": "code",
   "execution_count": 52,
   "metadata": {},
   "outputs": [
    {
     "name": "stdout",
     "output_type": "stream",
     "text": [
      "Starting game number: 0\n",
      "Starting game number: 1\n",
      "Starting game number: 2\n",
      "Starting game number: 3\n",
      "Starting game number: 4\n",
      "Starting game number: 5\n",
      "Starting game number: 6\n",
      "Starting game number: 7\n",
      "Starting game number: 8\n",
      "Starting game number: 9\n",
      "Starting game number: 10\n",
      "Starting game number: 11\n",
      "Starting game number: 12\n",
      "Starting game number: 13\n",
      "Starting game number: 14\n",
      "Starting game number: 15\n",
      "Starting game number: 16\n",
      "Starting game number: 17\n",
      "Starting game number: 18\n",
      "Starting game number: 19\n",
      "Starting game number: 20\n",
      "Starting game number: 21\n",
      "Starting game number: 22\n",
      "Starting game number: 23\n",
      "Starting game number: 24\n",
      "Starting game number: 25\n",
      "Starting game number: 26\n",
      "Starting game number: 27\n",
      "Starting game number: 28\n",
      "Starting game number: 29\n",
      "Starting game number: 30\n",
      "Starting game number: 31\n",
      "Starting game number: 32\n",
      "Starting game number: 33\n",
      "Starting game number: 34\n",
      "Starting game number: 35\n",
      "Starting game number: 36\n",
      "Starting game number: 37\n",
      "Starting game number: 38\n",
      "Starting game number: 39\n",
      "Starting game number: 40\n",
      "Starting game number: 41\n",
      "Starting game number: 42\n",
      "Starting game number: 43\n",
      "Starting game number: 44\n",
      "Starting game number: 45\n",
      "Starting game number: 46\n",
      "Starting game number: 47\n",
      "Starting game number: 48\n",
      "Starting game number: 49\n",
      "Starting game number: 50\n",
      "Starting game number: 51\n",
      "Starting game number: 52\n",
      "Starting game number: 53\n",
      "Starting game number: 54\n",
      "Starting game number: 55\n",
      "Starting game number: 56\n",
      "Starting game number: 57\n",
      "Starting game number: 58\n",
      "Starting game number: 59\n",
      "Starting game number: 60\n",
      "Starting game number: 61\n",
      "Starting game number: 62\n",
      "Starting game number: 63\n",
      "Starting game number: 64\n",
      "Starting game number: 65\n",
      "Starting game number: 66\n",
      "Starting game number: 67\n",
      "Starting game number: 68\n",
      "Starting game number: 69\n",
      "Starting game number: 70\n",
      "Starting game number: 71\n",
      "Starting game number: 72\n",
      "Starting game number: 73\n",
      "Starting game number: 74\n",
      "Starting game number: 75\n",
      "Starting game number: 76\n",
      "Starting game number: 77\n",
      "Starting game number: 78\n",
      "Starting game number: 79\n",
      "Starting game number: 80\n",
      "Starting game number: 81\n",
      "Starting game number: 82\n",
      "Starting game number: 83\n",
      "Starting game number: 84\n",
      "Starting game number: 85\n",
      "Starting game number: 86\n",
      "Starting game number: 87\n",
      "Starting game number: 88\n",
      "Starting game number: 89\n",
      "Starting game number: 90\n",
      "Starting game number: 91\n",
      "Starting game number: 92\n",
      "Starting game number: 93\n",
      "Starting game number: 94\n",
      "Starting game number: 95\n",
      "Starting game number: 96\n",
      "Starting game number: 97\n",
      "Starting game number: 98\n",
      "Starting game number: 99\n",
      "ORIGINAL MODEL \n",
      "\n",
      "After 100 games the average number of moves made per game was 42.300, the standard diviation was 7.732, the mode was 30 with a count of 20, the min moves was 30, and the max moves was 70.\n",
      "\n",
      "This engine won 0 times and stockfish 13 won 100 times \n",
      "\n",
      "Starting game number: 0\n",
      "Starting game number: 1\n",
      "Starting game number: 2\n",
      "Starting game number: 3\n",
      "Starting game number: 4\n",
      "Starting game number: 5\n",
      "Starting game number: 6\n",
      "Starting game number: 7\n",
      "Starting game number: 8\n",
      "Starting game number: 9\n",
      "Starting game number: 10\n",
      "Starting game number: 11\n",
      "Starting game number: 12\n",
      "Starting game number: 13\n",
      "Starting game number: 14\n",
      "Starting game number: 15\n",
      "Starting game number: 16\n"
     ]
    },
    {
     "ename": "KeyboardInterrupt",
     "evalue": "",
     "output_type": "error",
     "traceback": [
      "\u001b[1;31m---------------------------------------------------------------------------\u001b[0m",
      "\u001b[1;31mKeyboardInterrupt\u001b[0m                         Traceback (most recent call last)",
      "\u001b[1;32m~\\AppData\\Local\\Temp\\ipykernel_8688\\1000324516.py\u001b[0m in \u001b[0;36m<module>\u001b[1;34m\u001b[0m\n\u001b[0;32m      1\u001b[0m \u001b[1;31m###intpereator must be setup before running\u001b[0m\u001b[1;33m\u001b[0m\u001b[1;33m\u001b[0m\u001b[0m\n\u001b[0;32m      2\u001b[0m \u001b[1;31m###this takes a long time to run\u001b[0m\u001b[1;33m\u001b[0m\u001b[1;33m\u001b[0m\u001b[0m\n\u001b[1;32m----> 3\u001b[1;33m \u001b[0mplayingTest\u001b[0m\u001b[1;33m(\u001b[0m\u001b[1;36m100\u001b[0m\u001b[1;33m,\u001b[0m \u001b[1;36m2\u001b[0m\u001b[1;33m)\u001b[0m \u001b[1;31m#number of games, depth of the search for a good move\u001b[0m\u001b[1;33m\u001b[0m\u001b[1;33m\u001b[0m\u001b[0m\n\u001b[0m",
      "\u001b[1;32m~\\AppData\\Local\\Temp\\ipykernel_8688\\592197204.py\u001b[0m in \u001b[0;36mplayingTest\u001b[1;34m(gamesToPlay, depth)\u001b[0m\n\u001b[0;32m     31\u001b[0m     \u001b[1;32mfor\u001b[0m \u001b[0mi\u001b[0m \u001b[1;32min\u001b[0m \u001b[0mrange\u001b[0m\u001b[1;33m(\u001b[0m\u001b[0mgamesToPlay\u001b[0m\u001b[1;33m)\u001b[0m\u001b[1;33m:\u001b[0m\u001b[1;33m\u001b[0m\u001b[1;33m\u001b[0m\u001b[0m\n\u001b[0;32m     32\u001b[0m         \u001b[0mprint\u001b[0m\u001b[1;33m(\u001b[0m\u001b[1;34m'Starting game number: %i'\u001b[0m \u001b[1;33m%\u001b[0m\u001b[0mi\u001b[0m\u001b[1;33m)\u001b[0m\u001b[1;33m\u001b[0m\u001b[1;33m\u001b[0m\u001b[0m\n\u001b[1;32m---> 33\u001b[1;33m         \u001b[0mmovesThisGame\u001b[0m\u001b[1;33m,\u001b[0m \u001b[0mwinner\u001b[0m \u001b[1;33m=\u001b[0m \u001b[0mplayStockfish\u001b[0m\u001b[1;33m(\u001b[0m\u001b[1;32mNone\u001b[0m\u001b[1;33m,\u001b[0m \u001b[0mdepth\u001b[0m\u001b[1;33m,\u001b[0m \u001b[1;32mTrue\u001b[0m\u001b[1;33m,\u001b[0m \u001b[1;32mFalse\u001b[0m\u001b[1;33m)\u001b[0m\u001b[1;33m\u001b[0m\u001b[1;33m\u001b[0m\u001b[0m\n\u001b[0m\u001b[0;32m     34\u001b[0m         \u001b[0mmovesEachGame\u001b[0m\u001b[1;33m[\u001b[0m\u001b[0mi\u001b[0m\u001b[1;33m]\u001b[0m \u001b[1;33m=\u001b[0m \u001b[0mmovesThisGame\u001b[0m\u001b[1;33m\u001b[0m\u001b[1;33m\u001b[0m\u001b[0m\n\u001b[0;32m     35\u001b[0m         \u001b[1;32mif\u001b[0m \u001b[0mwinner\u001b[0m\u001b[1;33m:\u001b[0m\u001b[1;33m\u001b[0m\u001b[1;33m\u001b[0m\u001b[0m\n",
      "\u001b[1;32m~\\AppData\\Local\\Temp\\ipykernel_8688\\1146129734.py\u001b[0m in \u001b[0;36mplayStockfish\u001b[1;34m(model, depth, Tflite, printBoard)\u001b[0m\n\u001b[0;32m     62\u001b[0m         \u001b[0mmoves\u001b[0m \u001b[1;33m=\u001b[0m \u001b[1;36m0\u001b[0m\u001b[1;33m\u001b[0m\u001b[1;33m\u001b[0m\u001b[0m\n\u001b[0;32m     63\u001b[0m         \u001b[1;32mwhile\u001b[0m \u001b[1;32mTrue\u001b[0m\u001b[1;33m:\u001b[0m\u001b[1;33m\u001b[0m\u001b[1;33m\u001b[0m\u001b[0m\n\u001b[1;32m---> 64\u001b[1;33m             \u001b[0mmove\u001b[0m \u001b[1;33m=\u001b[0m \u001b[0mget_ai_move\u001b[0m\u001b[1;33m(\u001b[0m\u001b[0mboard\u001b[0m\u001b[1;33m,\u001b[0m \u001b[0mdepth\u001b[0m\u001b[1;33m,\u001b[0m \u001b[0mTflite\u001b[0m\u001b[1;33m)\u001b[0m\u001b[1;33m\u001b[0m\u001b[1;33m\u001b[0m\u001b[0m\n\u001b[0m\u001b[0;32m     65\u001b[0m             \u001b[0mboard\u001b[0m\u001b[1;33m.\u001b[0m\u001b[0mpush\u001b[0m\u001b[1;33m(\u001b[0m\u001b[0mmove\u001b[0m\u001b[1;33m)\u001b[0m\u001b[1;33m\u001b[0m\u001b[1;33m\u001b[0m\u001b[0m\n\u001b[0;32m     66\u001b[0m             \u001b[0mmoves\u001b[0m \u001b[1;33m+=\u001b[0m\u001b[1;36m1\u001b[0m\u001b[1;33m\u001b[0m\u001b[1;33m\u001b[0m\u001b[0m\n",
      "\u001b[1;32m~\\AppData\\Local\\Temp\\ipykernel_8688\\1146129734.py\u001b[0m in \u001b[0;36mget_ai_move\u001b[1;34m(board, depth, Tflite)\u001b[0m\n\u001b[0;32m     49\u001b[0m   \u001b[1;32mfor\u001b[0m \u001b[0mmove\u001b[0m \u001b[1;32min\u001b[0m \u001b[0mboard\u001b[0m\u001b[1;33m.\u001b[0m\u001b[0mlegal_moves\u001b[0m\u001b[1;33m:\u001b[0m\u001b[1;33m\u001b[0m\u001b[1;33m\u001b[0m\u001b[0m\n\u001b[0;32m     50\u001b[0m     \u001b[0mboard\u001b[0m\u001b[1;33m.\u001b[0m\u001b[0mpush\u001b[0m\u001b[1;33m(\u001b[0m\u001b[0mmove\u001b[0m\u001b[1;33m)\u001b[0m\u001b[1;33m\u001b[0m\u001b[1;33m\u001b[0m\u001b[0m\n\u001b[1;32m---> 51\u001b[1;33m     \u001b[0meval\u001b[0m \u001b[1;33m=\u001b[0m \u001b[0mminimax\u001b[0m\u001b[1;33m(\u001b[0m\u001b[0mboard\u001b[0m\u001b[1;33m,\u001b[0m \u001b[0mdepth\u001b[0m \u001b[1;33m-\u001b[0m \u001b[1;36m1\u001b[0m\u001b[1;33m,\u001b[0m \u001b[1;33m-\u001b[0m\u001b[0mnumpy\u001b[0m\u001b[1;33m.\u001b[0m\u001b[0minf\u001b[0m\u001b[1;33m,\u001b[0m \u001b[0mnumpy\u001b[0m\u001b[1;33m.\u001b[0m\u001b[0minf\u001b[0m\u001b[1;33m,\u001b[0m \u001b[1;32mFalse\u001b[0m\u001b[1;33m,\u001b[0m\u001b[0mmodel\u001b[0m\u001b[1;33m,\u001b[0m \u001b[0mTflite\u001b[0m\u001b[1;33m)\u001b[0m\u001b[1;33m\u001b[0m\u001b[1;33m\u001b[0m\u001b[0m\n\u001b[0m\u001b[0;32m     52\u001b[0m     \u001b[0mboard\u001b[0m\u001b[1;33m.\u001b[0m\u001b[0mpop\u001b[0m\u001b[1;33m(\u001b[0m\u001b[1;33m)\u001b[0m\u001b[1;33m\u001b[0m\u001b[1;33m\u001b[0m\u001b[0m\n\u001b[0;32m     53\u001b[0m     \u001b[1;32mif\u001b[0m \u001b[0meval\u001b[0m \u001b[1;33m>\u001b[0m \u001b[0mmax_eval\u001b[0m\u001b[1;33m:\u001b[0m\u001b[1;33m\u001b[0m\u001b[1;33m\u001b[0m\u001b[0m\n",
      "\u001b[1;32m~\\AppData\\Local\\Temp\\ipykernel_8688\\1146129734.py\u001b[0m in \u001b[0;36mminimax\u001b[1;34m(board, depth, alpha, beta, maximizing_player, model, Tflite)\u001b[0m\n\u001b[0;32m     33\u001b[0m     \u001b[1;32mfor\u001b[0m \u001b[0mmove\u001b[0m \u001b[1;32min\u001b[0m \u001b[0mboard\u001b[0m\u001b[1;33m.\u001b[0m\u001b[0mlegal_moves\u001b[0m\u001b[1;33m:\u001b[0m\u001b[1;33m\u001b[0m\u001b[1;33m\u001b[0m\u001b[0m\n\u001b[0;32m     34\u001b[0m       \u001b[0mboard\u001b[0m\u001b[1;33m.\u001b[0m\u001b[0mpush\u001b[0m\u001b[1;33m(\u001b[0m\u001b[0mmove\u001b[0m\u001b[1;33m)\u001b[0m\u001b[1;33m\u001b[0m\u001b[1;33m\u001b[0m\u001b[0m\n\u001b[1;32m---> 35\u001b[1;33m       \u001b[0meval\u001b[0m \u001b[1;33m=\u001b[0m \u001b[0mminimax\u001b[0m\u001b[1;33m(\u001b[0m\u001b[0mboard\u001b[0m\u001b[1;33m,\u001b[0m \u001b[0mdepth\u001b[0m \u001b[1;33m-\u001b[0m \u001b[1;36m1\u001b[0m\u001b[1;33m,\u001b[0m \u001b[0malpha\u001b[0m\u001b[1;33m,\u001b[0m \u001b[0mbeta\u001b[0m\u001b[1;33m,\u001b[0m \u001b[1;32mTrue\u001b[0m\u001b[1;33m,\u001b[0m \u001b[0mmodel\u001b[0m\u001b[1;33m,\u001b[0m \u001b[0mTflite\u001b[0m\u001b[1;33m)\u001b[0m\u001b[1;33m\u001b[0m\u001b[1;33m\u001b[0m\u001b[0m\n\u001b[0m\u001b[0;32m     36\u001b[0m       \u001b[0mboard\u001b[0m\u001b[1;33m.\u001b[0m\u001b[0mpop\u001b[0m\u001b[1;33m(\u001b[0m\u001b[1;33m)\u001b[0m\u001b[1;33m\u001b[0m\u001b[1;33m\u001b[0m\u001b[0m\n\u001b[0;32m     37\u001b[0m       \u001b[0mmin_eval\u001b[0m \u001b[1;33m=\u001b[0m \u001b[0mmin\u001b[0m\u001b[1;33m(\u001b[0m\u001b[0mmin_eval\u001b[0m\u001b[1;33m,\u001b[0m \u001b[0meval\u001b[0m\u001b[1;33m)\u001b[0m\u001b[1;33m\u001b[0m\u001b[1;33m\u001b[0m\u001b[0m\n",
      "\u001b[1;32m~\\AppData\\Local\\Temp\\ipykernel_8688\\1146129734.py\u001b[0m in \u001b[0;36mminimax\u001b[1;34m(board, depth, alpha, beta, maximizing_player, model, Tflite)\u001b[0m\n\u001b[0;32m     16\u001b[0m \u001b[1;32mdef\u001b[0m \u001b[0mminimax\u001b[0m\u001b[1;33m(\u001b[0m\u001b[0mboard\u001b[0m\u001b[1;33m,\u001b[0m \u001b[0mdepth\u001b[0m\u001b[1;33m,\u001b[0m \u001b[0malpha\u001b[0m\u001b[1;33m,\u001b[0m \u001b[0mbeta\u001b[0m\u001b[1;33m,\u001b[0m \u001b[0mmaximizing_player\u001b[0m\u001b[1;33m,\u001b[0m\u001b[0mmodel\u001b[0m\u001b[1;33m,\u001b[0m\u001b[0mTflite\u001b[0m\u001b[1;33m)\u001b[0m\u001b[1;33m:\u001b[0m\u001b[1;33m\u001b[0m\u001b[1;33m\u001b[0m\u001b[0m\n\u001b[0;32m     17\u001b[0m   \u001b[1;32mif\u001b[0m \u001b[0mdepth\u001b[0m \u001b[1;33m==\u001b[0m \u001b[1;36m0\u001b[0m \u001b[1;32mor\u001b[0m \u001b[0mboard\u001b[0m\u001b[1;33m.\u001b[0m\u001b[0mis_game_over\u001b[0m\u001b[1;33m(\u001b[0m\u001b[1;33m)\u001b[0m\u001b[1;33m:\u001b[0m\u001b[1;33m\u001b[0m\u001b[1;33m\u001b[0m\u001b[0m\n\u001b[1;32m---> 18\u001b[1;33m     \u001b[1;32mreturn\u001b[0m \u001b[0mminimax_eval\u001b[0m\u001b[1;33m(\u001b[0m\u001b[0mboard\u001b[0m\u001b[1;33m,\u001b[0m\u001b[0mmodel\u001b[0m\u001b[1;33m,\u001b[0m \u001b[0mTflite\u001b[0m\u001b[1;33m)\u001b[0m\u001b[1;33m\u001b[0m\u001b[1;33m\u001b[0m\u001b[0m\n\u001b[0m\u001b[0;32m     19\u001b[0m \u001b[1;33m\u001b[0m\u001b[0m\n\u001b[0;32m     20\u001b[0m   \u001b[1;32mif\u001b[0m \u001b[0mmaximizing_player\u001b[0m\u001b[1;33m:\u001b[0m\u001b[1;33m\u001b[0m\u001b[1;33m\u001b[0m\u001b[0m\n",
      "\u001b[1;32m~\\AppData\\Local\\Temp\\ipykernel_8688\\1146129734.py\u001b[0m in \u001b[0;36mminimax_eval\u001b[1;34m(board, model, Tflite)\u001b[0m\n\u001b[0;32m      9\u001b[0m       \u001b[0mboard2\u001b[0m \u001b[1;33m=\u001b[0m \u001b[0mnumpy\u001b[0m\u001b[1;33m.\u001b[0m\u001b[0mfloat32\u001b[0m\u001b[1;33m(\u001b[0m\u001b[0mboard2\u001b[0m\u001b[1;33m)\u001b[0m\u001b[1;33m\u001b[0m\u001b[1;33m\u001b[0m\u001b[0m\n\u001b[0;32m     10\u001b[0m       \u001b[0minterpreter\u001b[0m\u001b[1;33m.\u001b[0m\u001b[0mset_tensor\u001b[0m\u001b[1;33m(\u001b[0m\u001b[0minput_index\u001b[0m\u001b[1;33m,\u001b[0m \u001b[0mboard2\u001b[0m\u001b[1;33m)\u001b[0m\u001b[1;33m\u001b[0m\u001b[1;33m\u001b[0m\u001b[0m\n\u001b[1;32m---> 11\u001b[1;33m       \u001b[0minterpreter\u001b[0m\u001b[1;33m.\u001b[0m\u001b[0minvoke\u001b[0m\u001b[1;33m(\u001b[0m\u001b[1;33m)\u001b[0m\u001b[1;33m\u001b[0m\u001b[1;33m\u001b[0m\u001b[0m\n\u001b[0m\u001b[0;32m     12\u001b[0m       \u001b[0mprediction\u001b[0m \u001b[1;33m=\u001b[0m \u001b[0minterpreter\u001b[0m\u001b[1;33m.\u001b[0m\u001b[0mget_tensor\u001b[0m\u001b[1;33m(\u001b[0m\u001b[0moutput_index\u001b[0m\u001b[1;33m)\u001b[0m\u001b[1;33m\u001b[0m\u001b[1;33m\u001b[0m\u001b[0m\n\u001b[0;32m     13\u001b[0m       \u001b[0mfpred\u001b[0m \u001b[1;33m=\u001b[0m \u001b[0mprediction\u001b[0m\u001b[1;33m[\u001b[0m\u001b[1;36m0\u001b[0m\u001b[1;33m]\u001b[0m\u001b[1;33m[\u001b[0m\u001b[1;36m0\u001b[0m\u001b[1;33m]\u001b[0m\u001b[1;33m\u001b[0m\u001b[1;33m\u001b[0m\u001b[0m\n",
      "\u001b[1;32m~\\AppData\\Roaming\\Python\\Python39\\site-packages\\tensorflow\\lite\\python\\interpreter.py\u001b[0m in \u001b[0;36minvoke\u001b[1;34m(self)\u001b[0m\n\u001b[0;32m    915\u001b[0m     \"\"\"\n\u001b[0;32m    916\u001b[0m     \u001b[0mself\u001b[0m\u001b[1;33m.\u001b[0m\u001b[0m_ensure_safe\u001b[0m\u001b[1;33m(\u001b[0m\u001b[1;33m)\u001b[0m\u001b[1;33m\u001b[0m\u001b[1;33m\u001b[0m\u001b[0m\n\u001b[1;32m--> 917\u001b[1;33m     \u001b[0mself\u001b[0m\u001b[1;33m.\u001b[0m\u001b[0m_interpreter\u001b[0m\u001b[1;33m.\u001b[0m\u001b[0mInvoke\u001b[0m\u001b[1;33m(\u001b[0m\u001b[1;33m)\u001b[0m\u001b[1;33m\u001b[0m\u001b[1;33m\u001b[0m\u001b[0m\n\u001b[0m\u001b[0;32m    918\u001b[0m \u001b[1;33m\u001b[0m\u001b[0m\n\u001b[0;32m    919\u001b[0m   \u001b[1;32mdef\u001b[0m \u001b[0mreset_all_variables\u001b[0m\u001b[1;33m(\u001b[0m\u001b[0mself\u001b[0m\u001b[1;33m)\u001b[0m\u001b[1;33m:\u001b[0m\u001b[1;33m\u001b[0m\u001b[1;33m\u001b[0m\u001b[0m\n",
      "\u001b[1;31mKeyboardInterrupt\u001b[0m: "
     ]
    }
   ],
   "source": [
    "###intpereator must be setup before running \n",
    "###this takes a long time to run\n",
    "playingTest(100, 2) #number of games, depth of the search for a good move"
   ]
  },
  {
   "cell_type": "code",
   "execution_count": 54,
   "metadata": {},
   "outputs": [
    {
     "data": {
      "image/png": "[encoded data removed]",
      "text/plain": [
       "<Figure size 640x480 with 2 Axes>"
      ]
     },
     "metadata": {},
     "output_type": "display_data"
    }
   ],
   "source": [
    "import matplotlib.pyplot as plt\n",
    "lables = ['original', 'clustered', 'clustered pruned', 'clustered pruned quantized' ]\n",
    "x = numpy.arange(4)\n",
    "ax1 = plt.subplot(1,1,1)\n",
    "w = 0.3\n",
    "maes = [x * 100 for x in maes]\n",
    "plt.xticks(x + w /2, lables, rotation='vertical')\n",
    "pop =ax1.bar(x, (model_sizes), width=w, color='deepskyblue', align='center')\n",
    "ax1.set_ylabel(\"Model Size MB\")\n",
    "ax2 = ax1.twinx()\n",
    "gdp =ax2.bar(x + w, maes, width=w,color='slateblue',align='center')\n",
    "plt.ylabel('MeanAerageError %')\n",
    "plt.legend([pop, gdp],['ModelSize', 'MeanAverageError'], loc='lower left')\n",
    "plt.show()"
   ]
  },
  {
   "cell_type": "code",
   "execution_count": null,
   "metadata": {},
   "outputs": [],
   "source": []
  }
 ],
 "metadata": {
  "accelerator": "GPU",
  "colab": {
   "collapsed_sections": [],
   "name": "Chess AI",
   "private_outputs": true,
   "provenance": []
  },
  "interpreter": {
   "hash": "aee8b7b246df8f9039afb4144a1f6fd8d2ca17a180786b69acc140d282b71a49"
  },
  "kernelspec": {
   "display_name": "Python 3 (ipykernel)",
   "language": "python",
   "name": "python3"
  },
  "language_info": {
   "codemirror_mode": {
    "name": "ipython",
    "version": 3
   },
   "file_extension": ".py",
   "mimetype": "text/x-python",
   "name": "python",
   "nbconvert_exporter": "python",
   "pygments_lexer": "ipython3",
   "version": "3.9.13"
  }
 },
 "nbformat": 4,
 "nbformat_minor": 1
}
